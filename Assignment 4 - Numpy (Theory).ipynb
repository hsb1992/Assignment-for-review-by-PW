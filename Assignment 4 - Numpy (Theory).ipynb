{
 "cells": [
  {
   "cell_type": "code",
   "execution_count": 5,
   "id": "deb3a80f-4c73-461f-bf43-d8ad6044bf36",
   "metadata": {},
   "outputs": [],
   "source": [
    "\n",
    "\n",
    "# 2. Compare and contrast np.mean() and np.average() functions in NumPy. When would you use one over the other?\n",
    "\n",
    "# 3. Describe the methods for reversing a NumPy array along different axes. Provide examples for 1D and 2D\n",
    "# arrays.\n",
    "\n",
    "\n",
    "\n",
    "\n",
    "\n",
    "# 5. Define ndarrays in NumPy and explain their key features. How do they differ from standard Python lists?\n",
    "\n",
    "\n",
    "\n",
    "\n",
    "\n",
    "\n",
    "\n",
    "\n",
    "\n",
    "\n",
    "\n",
    "\n",
    "\n",
    "\n",
    "import numpy as np"
   ]
  },
  {
   "cell_type": "code",
   "execution_count": 6,
   "id": "60861dc9-653d-46ae-b3f4-e7151f3d7040",
   "metadata": {},
   "outputs": [],
   "source": [
    "# 1. Explain the purpose and advantages of NumPy in scientific computing and data analysis. \n",
    "# How does it enhance Python's capabilities for numerical operations?\n",
    "\n",
    "# A key Python library for data analysis and scientific computing is called NumPy \n",
    "# (Numerical Python). It offers strong tools for managing sizable, \n",
    "# multi-dimensional arrays and matrices in addition to a number of mathematical \n",
    "# operations that can be performed effectively on these arrays.\n",
    "# Here's how NumPy improves upon Python's features and why data analysis \n",
    "# and scientific computing benefit from using it.\n",
    "\n",
    "\n",
    "#Numpy (numerical Python) - enhances python's capabilities by providing efficient, \n",
    "#high-performance tools for handling and manipulating large datasets,performing complex\n",
    "#mathematical operations, and integrating with other scientific libraries. its ability\n",
    "#to streamline numerical operations and improve performance\n",
    "\n"
   ]
  },
  {
   "cell_type": "code",
   "execution_count": 7,
   "id": "c3de1ba0-289a-4c42-b136-fa1480498863",
   "metadata": {},
   "outputs": [
    {
     "data": {
      "text/plain": [
       "2.5"
      ]
     },
     "execution_count": 7,
     "metadata": {},
     "output_type": "execute_result"
    }
   ],
   "source": [
    "# 2. Compare and contrast np.mean() and np.average() functions in NumPy. \n",
    "#When would you use one over the other?\n",
    "\n",
    "#both np.mean() and np.average() are functions in numpy used to calculate the average of an\n",
    "#array. \n",
    "\n",
    "#np.mean() - is ideal for calculating a simple average with equal weighting for all elements\n",
    "#np.average() - is perferred when you need to calculate a weighted average.\n",
    "\n",
    "#np.mean() - as it do not  involve weight is slighlty faster and less computationally \n",
    "#intensive \n",
    "#np.average() - it is slower than np.mean() and has additional steps \n",
    "\n",
    "element = [1,2,3,4]\n",
    "np.mean(element)"
   ]
  },
  {
   "cell_type": "code",
   "execution_count": 8,
   "id": "f48ffbd0-965d-4e0c-958a-7c1419d8381d",
   "metadata": {},
   "outputs": [
    {
     "data": {
      "text/plain": [
       "2.5"
      ]
     },
     "execution_count": 8,
     "metadata": {},
     "output_type": "execute_result"
    }
   ],
   "source": [
    "np.average(element)"
   ]
  },
  {
   "cell_type": "code",
   "execution_count": 9,
   "id": "056b2397-99f7-47aa-971e-82c7daa2ef42",
   "metadata": {},
   "outputs": [],
   "source": [
    "# 3. Describe the methods for reversing a NumPy array along different axes. \n",
    "#Provide examples for 1D and 2D arrays.\n",
    "\n",
    "#reversing a numpy array can be done efficiently using slicing and specific numpy function.\n"
   ]
  },
  {
   "cell_type": "code",
   "execution_count": 10,
   "id": "8f60ae81-5317-4009-a4a0-69683fa45df3",
   "metadata": {},
   "outputs": [
    {
     "data": {
      "text/plain": [
       "array([5, 4, 3, 2, 1])"
      ]
     },
     "execution_count": 10,
     "metadata": {},
     "output_type": "execute_result"
    }
   ],
   "source": [
    "#reversing a 1D array\n",
    "#syntax : array[::-1]\n",
    "arr = np.array([1,2,3,4,5])\n",
    "reversed = arr[::-1]\n",
    "reversed"
   ]
  },
  {
   "cell_type": "code",
   "execution_count": 11,
   "id": "e70754c7-44a8-4a64-8b87-125b89cad928",
   "metadata": {},
   "outputs": [
    {
     "data": {
      "text/plain": [
       "array([[3, 2, 1],\n",
       "       [6, 5, 4],\n",
       "       [9, 8, 7]])"
      ]
     },
     "execution_count": 11,
     "metadata": {},
     "output_type": "execute_result"
    }
   ],
   "source": [
    "#reversing a 2D array\n",
    "#syntax reversed columns: array[::-1,:]\n",
    "arr_2d = np.array([[1,2,3],\n",
    "                   [4,5,6],\n",
    "                   [7,8,9]])\n",
    "reversed = arr_2d[:,::-1]\n",
    "reversed"
   ]
  },
  {
   "cell_type": "code",
   "execution_count": 12,
   "id": "30090642-1c53-43a7-ba32-815df2350680",
   "metadata": {},
   "outputs": [
    {
     "data": {
      "text/plain": [
       "array([[7, 8, 9],\n",
       "       [4, 5, 6],\n",
       "       [1, 2, 3]])"
      ]
     },
     "execution_count": 12,
     "metadata": {},
     "output_type": "execute_result"
    }
   ],
   "source": [
    "#reversed_rows\n",
    "#syntax : [::-1,:]\n",
    "arr_2d = np.array([[1,2,3],\n",
    "                   [4,5,6],\n",
    "                   [7,8,9]])\n",
    "reversed = arr_2d[::-1,:]\n",
    "reversed"
   ]
  },
  {
   "cell_type": "code",
   "execution_count": 13,
   "id": "8d0de722-5d29-419b-9df3-37217b07eddd",
   "metadata": {},
   "outputs": [
    {
     "data": {
      "text/plain": [
       "array([[9, 8, 7],\n",
       "       [6, 5, 4],\n",
       "       [3, 2, 1]])"
      ]
     },
     "execution_count": 13,
     "metadata": {},
     "output_type": "execute_result"
    }
   ],
   "source": [
    "#reversed both\n",
    "# syntax : [::-1,::-1]\n",
    "arr_2d = np.array([[1,2,3],\n",
    "                   [4,5,6],\n",
    "                   [7,8,9]])\n",
    "reversed = arr_2d[::-1,::-1]\n",
    "reversed"
   ]
  },
  {
   "cell_type": "code",
   "execution_count": 14,
   "id": "0c881350-dd57-423c-bec8-799c8f18adb5",
   "metadata": {},
   "outputs": [],
   "source": [
    "# 4. How can you determine the data type of elements in a NumPy array? \n",
    "#Discuss the importance of data types in memory management and performance."
   ]
  },
  {
   "cell_type": "code",
   "execution_count": 15,
   "id": "82e7d7a6-c253-47b1-8551-498267e67c4e",
   "metadata": {},
   "outputs": [
    {
     "data": {
      "text/plain": [
       "array([1, 2, 3])"
      ]
     },
     "execution_count": 15,
     "metadata": {},
     "output_type": "execute_result"
    }
   ],
   "source": [
    "arr = np.array([1,2,3])\n",
    "arr"
   ]
  },
  {
   "cell_type": "code",
   "execution_count": 16,
   "id": "a200a159-677e-4937-ac40-b95dfcd1f571",
   "metadata": {},
   "outputs": [
    {
     "data": {
      "text/plain": [
       "dtype('int32')"
      ]
     },
     "execution_count": 16,
     "metadata": {},
     "output_type": "execute_result"
    }
   ],
   "source": [
    "arr.dtype"
   ]
  },
  {
   "cell_type": "code",
   "execution_count": 17,
   "id": "8212b91b-f26a-4bcf-99d3-6b5eb9f6f34e",
   "metadata": {},
   "outputs": [
    {
     "data": {
      "text/plain": [
       "array([1.2, 2.3, 3.4])"
      ]
     },
     "execution_count": 17,
     "metadata": {},
     "output_type": "execute_result"
    }
   ],
   "source": [
    "fl = np.array([1.2,2.3,3.4])\n",
    "fl"
   ]
  },
  {
   "cell_type": "code",
   "execution_count": 18,
   "id": "60d064c4-157e-43db-a504-96003a8a8dc0",
   "metadata": {},
   "outputs": [
    {
     "data": {
      "text/plain": [
       "dtype('float64')"
      ]
     },
     "execution_count": 18,
     "metadata": {},
     "output_type": "execute_result"
    }
   ],
   "source": [
    "fl.dtype"
   ]
  },
  {
   "cell_type": "code",
   "execution_count": 19,
   "id": "124b215b-89a4-49b1-82a6-b4c4686da8d5",
   "metadata": {},
   "outputs": [
    {
     "data": {
      "text/plain": [
       "array([2.+3.j, 3.+4.j, 4.+5.j])"
      ]
     },
     "execution_count": 19,
     "metadata": {},
     "output_type": "execute_result"
    }
   ],
   "source": [
    "complex = np.array([2+3j,3+4j, 4+5j])\n",
    "complex"
   ]
  },
  {
   "cell_type": "code",
   "execution_count": 20,
   "id": "4fe606e6-364c-4dbb-9f68-bfcca30ac900",
   "metadata": {},
   "outputs": [
    {
     "data": {
      "text/plain": [
       "dtype('complex128')"
      ]
     },
     "execution_count": 20,
     "metadata": {},
     "output_type": "execute_result"
    }
   ],
   "source": [
    "complex.dtype"
   ]
  },
  {
   "cell_type": "code",
   "execution_count": 21,
   "id": "fe0bb42b-bb36-46ef-85c4-3cf765224a6c",
   "metadata": {},
   "outputs": [],
   "source": [
    "# The data type (dtype) of a NumPy array is critical for memory management and computational performance.\n",
    "# Choosing an appropriate data type allows you to balance memory usage and speed, making your applications more efficient.\n",
    "# You can determine the data type of elements in an array using the dtype attribute, which provides insight into how the array is stored and processed in memory."
   ]
  },
  {
   "cell_type": "code",
   "execution_count": 22,
   "id": "5149d784-d4e8-4d92-8d29-579fc90a3fc0",
   "metadata": {},
   "outputs": [],
   "source": [
    "# 5. Define ndarrays in NumPy and explain their key features. \n",
    "#How do they differ from standard Python lists?\n",
    "\n",
    "#ndarray(N-dimensional array) is the core data structure that provides a powerful way to \n",
    "#store and manipulate large amounts of numerical data. An 'ndarray' is a multidimensional,\n",
    "#homogenous array of fixed-size items, where each element in the array is of the same data\n",
    "#type\n",
    "\n",
    "#Key features of ndarray\n",
    "# 1. Homogenous data : all elements in an 'ndarray' are of the same type, defined by the \n",
    "#\"dtype\" attribute. this uniformity allows for efficient storage and operation, as the \n",
    "#underlying memory representation is consistent.\n",
    "\n",
    "# 2. Multidimensional: An ndarray can have any number of dimensions, specified by its shape \n",
    "#(a tuple of integers). The dimensions correspond to the rank of the array, and NumPy supports \n",
    "# arrays of arbitrary dimensions (1D, 2D, 3D, etc.).\n",
    "\n",
    "#3. Fixed Size: Once created, the size of an ndarray is fixed. While you can reshape or \n",
    "# create new arrays, the number of elements in an array cannot change without creating a new\n",
    "#array.\n"
   ]
  },
  {
   "cell_type": "code",
   "execution_count": 23,
   "id": "125377f9-0127-47f2-98b9-e634acc6c435",
   "metadata": {},
   "outputs": [],
   "source": [
    "# Memory Efficiency: The data type of an array directly influences the amount of memory \n",
    "# required to store the array\n",
    "# Choosing the Right Data Type: By selecting an appropriate data type, you can optimize \n",
    "# memory usage.\n",
    "# Choosing the Right Data Type: By selecting an appropriate data type, you can optimize \n",
    "# memory usage.\n",
    "# Computation Speed: Operations on arrays with smaller data types generally execute \n",
    "# faster because they involve fewer bits.\n",
    "# CPU Cache Efficiency: Smaller data types mean that more data can fit into the CPU \n",
    "# cache, potentially reducing the need for memory access and speeding up computation."
   ]
  },
  {
   "cell_type": "code",
   "execution_count": null,
   "id": "6977f6c9-f6e0-4539-8867-dfa134a9890c",
   "metadata": {},
   "outputs": [],
   "source": []
  },
  {
   "cell_type": "code",
   "execution_count": 24,
   "id": "46915b0d-4c38-4491-9e52-9b8b3ebdc59a",
   "metadata": {},
   "outputs": [],
   "source": [
    "# 6. Analyze the performance benefits of NumPy arrays over Python lists for large-scale numerical operations.\n",
    "\n",
    "#Numpy arrays provides a specific speed advantage ovr python list. this is because numpy is built in C, which is the fastest coding language.\n",
    "# The syntax used in mathematical operationsa are easy to use, concise and readable.\n",
    "# Numpy itself has collection of functions and operations which help us to reduce manual coding.\n",
    "# it uses less memory as compare to list because it uses homogenous data type which helps usimg efficient memory utilization compare to list.\n",
    "# Numpy has built-in functions for performing complex mathematical operations which are not only faster but more reliable than writing your own functions from the scratch.\n",
    "# Python list cannot work in multidimensional data operations where as array is has multidimensional array support.\n"
   ]
  },
  {
   "cell_type": "code",
   "execution_count": 25,
   "id": "fc468184-51bd-45c4-b7c3-d1406acf160e",
   "metadata": {},
   "outputs": [
    {
     "name": "stdout",
     "output_type": "stream",
     "text": [
      "1 2 3 4 5 6 7 8 "
     ]
    }
   ],
   "source": [
    "list = [1,2,3,4,5,6,7,8]\n",
    "for i in list:\n",
    "    print(i,end=\" \") #HERE, you can see we are using extra effot and time for list"
   ]
  },
  {
   "cell_type": "code",
   "execution_count": 26,
   "id": "212de006-9436-45c1-8744-fbe760f72935",
   "metadata": {},
   "outputs": [
    {
     "data": {
      "text/plain": [
       "array([1, 2, 3, 4, 5, 6, 7, 8])"
      ]
     },
     "execution_count": 26,
     "metadata": {},
     "output_type": "execute_result"
    }
   ],
   "source": [
    "np.arange(1,9)# but using numpy its way easier"
   ]
  },
  {
   "cell_type": "code",
   "execution_count": 49,
   "id": "d9ba4f54-6947-4071-a4c5-0c04dab99553",
   "metadata": {},
   "outputs": [
    {
     "data": {
      "text/plain": [
       "array([[ 4,  2,  8,  5],\n",
       "       [ 6,  4,  7,  8],\n",
       "       [ 9,  1,  5,  9],\n",
       "       [19, 17, 19, 11]])"
      ]
     },
     "execution_count": 49,
     "metadata": {},
     "output_type": "execute_result"
    }
   ],
   "source": [
    "# 7. Compare vstack() and hstack() functions in NumPy. Provide examples demonstrating their usage and\n",
    "# output.\n",
    "\n",
    "#V-stack - \n",
    "# V (vertically) stack means stack arrays in vertical sequence or row wise.\n",
    "# this is like concatenation of a matrix with a 1-D array \n",
    "\n",
    "#Syntax :\n",
    "#np.vstack(tup,dtype=None, casting='same_kind')\n",
    "\n",
    "a = np.random.randint(1,10,size = (3,4))\n",
    "a\n",
    "\n",
    "b = np.random.randint(11,20, size = (1,4))\n",
    "b\n",
    "\n",
    "np.vstack((a, b))\n",
    "\n",
    "#in the resultant we can see we have concatenated matrix A with array B\n",
    "#this is an example of vstack\n"
   ]
  },
  {
   "cell_type": "code",
   "execution_count": 56,
   "id": "e9523d37-a1eb-44ec-9d6b-39c65b6354e9",
   "metadata": {},
   "outputs": [
    {
     "data": {
      "text/plain": [
       "array([21, 22, 23, 24])"
      ]
     },
     "execution_count": 56,
     "metadata": {},
     "output_type": "execute_result"
    }
   ],
   "source": [
    "#H-stack - \n",
    "# H (horizontally) stack means stack arrays in horizontal sequence or row wise.\n",
    "# this is like concatenation of a matrix with a 1-D array \n",
    "\n",
    "#Syntax :\n",
    "#np.hstack(tup,dtype=None, casting='same_kind')\n",
    "a = np.array([[1,2,3],[4,5,6],[7,8,9],[10,11,12]])\n",
    "a\n",
    "b = np.array([21,22,23,24])\n",
    "b"
   ]
  },
  {
   "cell_type": "code",
   "execution_count": 60,
   "id": "eb19660e-83e7-429b-ae21-85a3d3925a2f",
   "metadata": {},
   "outputs": [
    {
     "data": {
      "text/plain": [
       "array([[21],\n",
       "       [22],\n",
       "       [23],\n",
       "       [24]])"
      ]
     },
     "execution_count": 60,
     "metadata": {},
     "output_type": "execute_result"
    }
   ],
   "source": [
    "bb = b.reshape(4,1)\n",
    "bb"
   ]
  },
  {
   "cell_type": "code",
   "execution_count": 64,
   "id": "37b51059-f2ed-481d-8467-5d671a87151b",
   "metadata": {},
   "outputs": [
    {
     "data": {
      "text/plain": [
       "array([[ 1,  2,  3, 21],\n",
       "       [ 4,  5,  6, 22],\n",
       "       [ 7,  8,  9, 23],\n",
       "       [10, 11, 12, 24]])"
      ]
     },
     "execution_count": 64,
     "metadata": {},
     "output_type": "execute_result"
    }
   ],
   "source": [
    "np.hstack((a,bb)) # here we can see we have concatenated a matrix with an array."
   ]
  },
  {
   "cell_type": "code",
   "execution_count": 83,
   "id": "92561e3b-09ee-49a7-bad2-a0e912361d92",
   "metadata": {},
   "outputs": [
    {
     "data": {
      "text/plain": [
       "array([[35, 28, 73, 44, 99],\n",
       "       [97, 28, 21, 67, 54],\n",
       "       [81, 86, 57, 55, 66],\n",
       "       [43, 89, 39, 33, 79]])"
      ]
     },
     "execution_count": 83,
     "metadata": {},
     "output_type": "execute_result"
    }
   ],
   "source": [
    "# 8. Explain the differences between fliplr() and flipud() methods in NumPy, including their effects on various\n",
    "# array dimensions.\n",
    "\n",
    "#this is a normal array created for the difference\n",
    "arr = np.random.randint(1,100, size = (4,5))\n",
    "arr\n",
    " # in 2-Dimension \n"
   ]
  },
  {
   "cell_type": "code",
   "execution_count": 84,
   "id": "ebce88d8-f329-42dd-97fb-73caffdffe44",
   "metadata": {},
   "outputs": [
    {
     "data": {
      "text/plain": [
       "array([[99, 44, 73, 28, 35],\n",
       "       [54, 67, 21, 28, 97],\n",
       "       [66, 55, 57, 86, 81],\n",
       "       [79, 33, 39, 89, 43]])"
      ]
     },
     "execution_count": 84,
     "metadata": {},
     "output_type": "execute_result"
    }
   ],
   "source": [
    "#fliplr :\n",
    "# it flips the array horizontally (axis = 1)\n",
    "#\n",
    "#example :\n",
    "horizontal_flip = np.fliplr(arr)\n",
    "horizontal_flip"
   ]
  },
  {
   "cell_type": "code",
   "execution_count": 85,
   "id": "8e849789-17e1-4b43-ae81-ce45755cc86a",
   "metadata": {},
   "outputs": [
    {
     "data": {
      "text/plain": [
       "array([[43, 89, 39, 33, 79],\n",
       "       [81, 86, 57, 55, 66],\n",
       "       [97, 28, 21, 67, 54],\n",
       "       [35, 28, 73, 44, 99]])"
      ]
     },
     "execution_count": 85,
     "metadata": {},
     "output_type": "execute_result"
    }
   ],
   "source": [
    "#flipud :\n",
    "#it flips the array vertically(axis = 0)\n",
    "#example :\n",
    "vertical_flip = np.flipud(arr)\n",
    "vertical_flip "
   ]
  },
  {
   "cell_type": "code",
   "execution_count": 88,
   "id": "d63c4196-80d0-4555-8f37-84609074b941",
   "metadata": {},
   "outputs": [
    {
     "data": {
      "text/plain": [
       "array([[[15, 18,  5,  9, 14],\n",
       "        [17, 17, 13, 11,  2],\n",
       "        [11, 19, 12,  3, 15],\n",
       "        [18, 19, 19, 17, 10]],\n",
       "\n",
       "       [[11, 15,  3,  5, 11],\n",
       "        [16, 14, 11,  9,  3],\n",
       "        [ 3, 19, 15, 18,  3],\n",
       "        [14, 19, 18,  4,  7]],\n",
       "\n",
       "       [[ 5, 13,  8, 13,  7],\n",
       "        [18,  7,  2, 11, 16],\n",
       "        [ 9, 10, 11, 18,  3],\n",
       "        [17, 18, 18,  4, 18]]])"
      ]
     },
     "execution_count": 88,
     "metadata": {},
     "output_type": "execute_result"
    }
   ],
   "source": [
    "# 3 Dimensional \n",
    "ap = np.random.randint(2,20,size =(3,4,5))\n",
    "ap"
   ]
  },
  {
   "cell_type": "code",
   "execution_count": 90,
   "id": "21887dab-f599-4742-8174-3c9856c7e1b8",
   "metadata": {},
   "outputs": [
    {
     "data": {
      "text/plain": [
       "array([[[18, 19, 19, 17, 10],\n",
       "        [11, 19, 12,  3, 15],\n",
       "        [17, 17, 13, 11,  2],\n",
       "        [15, 18,  5,  9, 14]],\n",
       "\n",
       "       [[14, 19, 18,  4,  7],\n",
       "        [ 3, 19, 15, 18,  3],\n",
       "        [16, 14, 11,  9,  3],\n",
       "        [11, 15,  3,  5, 11]],\n",
       "\n",
       "       [[17, 18, 18,  4, 18],\n",
       "        [ 9, 10, 11, 18,  3],\n",
       "        [18,  7,  2, 11, 16],\n",
       "        [ 5, 13,  8, 13,  7]]])"
      ]
     },
     "execution_count": 90,
     "metadata": {},
     "output_type": "execute_result"
    }
   ],
   "source": [
    "#3D horizontal flip\n",
    "horizontal = np.fliplr(ap)\n",
    "horizontal\n",
    "#in horizontal the elements flipped within it axis"
   ]
  },
  {
   "cell_type": "code",
   "execution_count": 91,
   "id": "763d733c-0fd0-4fac-b1e3-ff4499632f9e",
   "metadata": {},
   "outputs": [
    {
     "data": {
      "text/plain": [
       "array([[[ 5, 13,  8, 13,  7],\n",
       "        [18,  7,  2, 11, 16],\n",
       "        [ 9, 10, 11, 18,  3],\n",
       "        [17, 18, 18,  4, 18]],\n",
       "\n",
       "       [[11, 15,  3,  5, 11],\n",
       "        [16, 14, 11,  9,  3],\n",
       "        [ 3, 19, 15, 18,  3],\n",
       "        [14, 19, 18,  4,  7]],\n",
       "\n",
       "       [[15, 18,  5,  9, 14],\n",
       "        [17, 17, 13, 11,  2],\n",
       "        [11, 19, 12,  3, 15],\n",
       "        [18, 19, 19, 17, 10]]])"
      ]
     },
     "execution_count": 91,
     "metadata": {},
     "output_type": "execute_result"
    }
   ],
   "source": [
    "#3D veritcal flip\n",
    "vertical = np.flipud(ap)\n",
    "vertical\n",
    "# in vertical flip >>> the elements has flipped it axis "
   ]
  },
  {
   "cell_type": "code",
   "execution_count": 98,
   "id": "3548f6cd-4a16-4a25-99d6-b0088fef078a",
   "metadata": {},
   "outputs": [
    {
     "data": {
      "text/plain": [
       "[array([1, 2]), array([3, 4]), array([5, 6]), array([7, 8])]"
      ]
     },
     "execution_count": 98,
     "metadata": {},
     "output_type": "execute_result"
    }
   ],
   "source": [
    "# 9. Discuss the functionality of the array_split() method in NumPy. How does it handle uneven splits?\n",
    "\n",
    "#array_split() method in numpy is used to split an array into multiplt sub arrays.\n",
    "#the difference between array_split() and split() is unlike split(), array_split() can divide into specific indices.\n",
    "\n",
    "\n",
    "arr = np.array([1,2,3,4,5,6,7,8])\n",
    "arr\n",
    "split = np.array_split(arr,[2,4,6])\n",
    "split\n",
    "#here you can see we have split an array into specific splits.\n",
    "\n"
   ]
  },
  {
   "cell_type": "code",
   "execution_count": 102,
   "id": "635db3e5-f702-4789-a5a6-43d99f61f050",
   "metadata": {},
   "outputs": [],
   "source": [
    "# 10. Explain the concepts of vectorization and broadcasting in NumPy. How do they contribute \n",
    "#to efficient array operations?\n",
    "\n",
    "#Both Vectorization and Broadcasting are important in numpy. they are performed on arrays. lets underswtand them one by one\n",
    "\n",
    "#Vectorization :\n",
    "#it is a technique to perform operations on arrays without using loops. it uses inbuilt \n",
    "#precompiled functions and operations like \"+,-,*,/\" etc to perform on arrays \n",
    "\n",
    "#it is used to increase the speed  of the python program.\n",
    "\n",
    "#Syntax :\n",
    "#np.vectorize()\n",
    "\n",
    "# it can be done within a single array.\n",
    "arr12 = np.array\n"
   ]
  },
  {
   "cell_type": "code",
   "execution_count": 108,
   "id": "faec8edc-95e6-4163-b87b-80d09790b071",
   "metadata": {},
   "outputs": [
    {
     "data": {
      "text/plain": [
       "array([[[ 8, 17, 19,  9],\n",
       "        [ 8, 26, 32, 14],\n",
       "        [21,  9, 15, 21]],\n",
       "\n",
       "       [[17, 11,  6,  4],\n",
       "        [14, 10, 18, 14],\n",
       "        [51, 51,  9, 12]]])"
      ]
     },
     "execution_count": 108,
     "metadata": {},
     "output_type": "execute_result"
    }
   ],
   "source": [
    "#Broadcasting :\n",
    "#by broadcastingwe perform arithmetic operations on arrays of different shapes.\n",
    "\n",
    "# unlike the usual way of performing arithematic operations on same shape of arays element by\n",
    "#element, by broadcasting we can do arithmetic operations on different shapes\n",
    "\n",
    "#Snytax :\n",
    "# np.broadcast()\n",
    "\n",
    "#it can be done between arrays of different dimensions.\n",
    "\n",
    "arr3D = np.random.randint(2,20, size = (2,3,4))\n",
    "\n",
    "arr2D = np.array([[1],[2],[3]])\n",
    "\n",
    "result = arr3D * arr2D\n",
    "result"
   ]
  },
  {
   "cell_type": "code",
   "execution_count": null,
   "id": "51adb185-abcf-4ce1-b1ad-911654303aeb",
   "metadata": {},
   "outputs": [],
   "source": []
  },
  {
   "cell_type": "code",
   "execution_count": null,
   "id": "86f291b4-5a20-4156-9437-2d0839cd54f3",
   "metadata": {},
   "outputs": [],
   "source": []
  },
  {
   "cell_type": "code",
   "execution_count": null,
   "id": "a9041f59-f1e7-45f8-88fe-9e3176241a13",
   "metadata": {},
   "outputs": [],
   "source": []
  },
  {
   "cell_type": "code",
   "execution_count": null,
   "id": "9f497d97-8816-4bc9-bb03-bddd7bd35bf8",
   "metadata": {},
   "outputs": [],
   "source": []
  },
  {
   "cell_type": "code",
   "execution_count": null,
   "id": "74533831-4ac0-49a8-85ea-c0f234bc5015",
   "metadata": {},
   "outputs": [],
   "source": []
  },
  {
   "cell_type": "code",
   "execution_count": null,
   "id": "f420b5a5-24ea-491f-b7b6-b070b7494d7c",
   "metadata": {},
   "outputs": [],
   "source": []
  },
  {
   "cell_type": "code",
   "execution_count": null,
   "id": "f4ca1449-6456-48c8-a5a6-44a36a5b0fd7",
   "metadata": {},
   "outputs": [],
   "source": []
  },
  {
   "cell_type": "code",
   "execution_count": null,
   "id": "1354d2e8-fea7-487e-bc41-95c91e46a320",
   "metadata": {},
   "outputs": [],
   "source": []
  },
  {
   "cell_type": "code",
   "execution_count": null,
   "id": "5ca61e84-126f-4f76-a247-cf77b2dfc049",
   "metadata": {},
   "outputs": [],
   "source": []
  },
  {
   "cell_type": "code",
   "execution_count": null,
   "id": "cf3ab268-980c-4816-aca7-8e9c510bf35d",
   "metadata": {},
   "outputs": [],
   "source": []
  },
  {
   "cell_type": "code",
   "execution_count": null,
   "id": "c10d803f-4b67-4dfc-b39e-3c4b3e3b6140",
   "metadata": {},
   "outputs": [],
   "source": []
  },
  {
   "cell_type": "code",
   "execution_count": null,
   "id": "76f76eb9-a419-49a1-ad58-df7eb66359e2",
   "metadata": {},
   "outputs": [],
   "source": []
  },
  {
   "cell_type": "code",
   "execution_count": null,
   "id": "a06867a5-3569-4ec8-9f82-6f09de002553",
   "metadata": {},
   "outputs": [],
   "source": []
  }
 ],
 "metadata": {
  "kernelspec": {
   "display_name": "Python 3 (ipykernel)",
   "language": "python",
   "name": "python3"
  },
  "language_info": {
   "codemirror_mode": {
    "name": "ipython",
    "version": 3
   },
   "file_extension": ".py",
   "mimetype": "text/x-python",
   "name": "python",
   "nbconvert_exporter": "python",
   "pygments_lexer": "ipython3",
   "version": "3.11.7"
  }
 },
 "nbformat": 4,
 "nbformat_minor": 5
}
