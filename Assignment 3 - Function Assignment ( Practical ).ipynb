{
 "cells": [
  {
   "cell_type": "code",
   "execution_count": null,
   "id": "6628f7da-285b-4772-b30b-7ed927b78b4b",
   "metadata": {},
   "outputs": [],
   "source": [
    "####################################                                                                ###################################################\n",
    "####################################                                                                ###################################################    \n",
    "####################################          ASSIGNMENT 3 - FUNCTION ASSIGNMENT (PRACTICAL)         ###################################################\n",
    "####################################                                                                ###################################################\n",
    "####################################                                                                ###################################################"
   ]
  },
  {
   "cell_type": "code",
   "execution_count": 21,
   "id": "e161cf78-deae-4cb7-b52a-c529fc2aa17e",
   "metadata": {},
   "outputs": [],
   "source": [
    "# Question 1) Write a Python function that takes a list of numbers as input and returns the sum of all even numbers in the list.\n",
    "\n",
    "def sum_even_no(n):\n",
    "    even_no = 0\n",
    "    for i in n :\n",
    "        if i % 2 == 0:\n",
    "            even_no += i\n",
    "    return even_no # you can see we have defined the function."
   ]
  },
  {
   "cell_type": "code",
   "execution_count": 27,
   "id": "6c9ef31b-69e0-422e-89d8-f3f1cfd26984",
   "metadata": {},
   "outputs": [
    {
     "data": {
      "text/plain": [
       "56"
      ]
     },
     "execution_count": 27,
     "metadata": {},
     "output_type": "execute_result"
    }
   ],
   "source": [
    "num = [1,2,3,4,5,6,7,8,9,10,11,12,13,14,15]\n",
    "sum_even_no(num) #here you can see the sum of all the even no."
   ]
  },
  {
   "cell_type": "code",
   "execution_count": 28,
   "id": "c4ff9bd9-7a01-4954-b41d-4be90c04dd92",
   "metadata": {},
   "outputs": [],
   "source": [
    "# Question 2) Create a Python function that accepts a string and returns the reverse of that string.\n",
    "\n",
    "def string(str):\n",
    "    return str[::-1]  # here we are defining the function "
   ]
  },
  {
   "cell_type": "code",
   "execution_count": 29,
   "id": "b7ed11ee-150e-4a12-a195-d824cf3132eb",
   "metadata": {},
   "outputs": [
    {
     "data": {
      "text/plain": [
       "'eoJ relliK'"
      ]
     },
     "execution_count": 29,
     "metadata": {},
     "output_type": "execute_result"
    }
   ],
   "source": [
    "string(\"Killer Joe\")   # and here is the reverse of the string."
   ]
  },
  {
   "cell_type": "code",
   "execution_count": 44,
   "id": "cbaf2a40-c28e-4fdd-8d65-55bb6a8935da",
   "metadata": {},
   "outputs": [],
   "source": [
    "# Question 3)  Implement a Python function that takes a list of integers and returns a new list containing the squares of each number.\n",
    "\n",
    "def square(n):\n",
    "    squ = []\n",
    "    for i in n :\n",
    "        if type(i) == int :\n",
    "            squ.append(i ** 2)\n",
    "    return squ\n",
    "                                    # here we are defining the function to return the squares of each no."
   ]
  },
  {
   "cell_type": "code",
   "execution_count": 48,
   "id": "6fc14507-fbc2-4df5-88a1-9806ebe6dddc",
   "metadata": {},
   "outputs": [
    {
     "name": "stdout",
     "output_type": "stream",
     "text": [
      "[4, 9, 16, 25, 36, 49, 64, 81]\n"
     ]
    }
   ],
   "source": [
    "no = [2,3,4,5,6,7,8,9,'int'] # only int\n",
    "square_of_no = square(no)\n",
    "print(square_of_no) # here is the output of the function"
   ]
  },
  {
   "cell_type": "code",
   "execution_count": 6,
   "id": "ad0ce1a9-dee9-4460-8f58-40830b59d22c",
   "metadata": {},
   "outputs": [],
   "source": [
    "# Question 4) Write a Python function that checks if a given number is prime or not from 1 to 200.\n",
    "\n",
    "def prime(n):\n",
    "    if n <= 1 :\n",
    "        return False\n",
    "    else :\n",
    "        for i in range(2, n):\n",
    "            if n % i ==0 : \n",
    "                return False\n",
    "        return True\n",
    "\n",
    "def check_prime_no_in_range(x, y):\n",
    "    for num in range(x, y+1):\n",
    "        if prime(num):\n",
    "            print(f\"{num} is prime no.\")\n",
    "        else:\n",
    "            print(f\"{num} is not prime no.\")\n",
    "\n",
    "\n",
    "    "
   ]
  },
  {
   "cell_type": "code",
   "execution_count": 7,
   "id": "b5caa91a-87fa-4095-a49d-b60f6138c70c",
   "metadata": {},
   "outputs": [
    {
     "name": "stdout",
     "output_type": "stream",
     "text": [
      "1 is not prime no.\n",
      "2 is prime no.\n",
      "3 is prime no.\n",
      "4 is not prime no.\n",
      "5 is prime no.\n",
      "6 is not prime no.\n",
      "7 is prime no.\n",
      "8 is not prime no.\n",
      "9 is not prime no.\n",
      "10 is not prime no.\n",
      "11 is prime no.\n",
      "12 is not prime no.\n",
      "13 is prime no.\n",
      "14 is not prime no.\n",
      "15 is not prime no.\n",
      "16 is not prime no.\n",
      "17 is prime no.\n",
      "18 is not prime no.\n",
      "19 is prime no.\n",
      "20 is not prime no.\n",
      "21 is not prime no.\n",
      "22 is not prime no.\n",
      "23 is prime no.\n",
      "24 is not prime no.\n",
      "25 is not prime no.\n",
      "26 is not prime no.\n",
      "27 is not prime no.\n",
      "28 is not prime no.\n",
      "29 is prime no.\n",
      "30 is not prime no.\n",
      "31 is prime no.\n",
      "32 is not prime no.\n",
      "33 is not prime no.\n",
      "34 is not prime no.\n",
      "35 is not prime no.\n",
      "36 is not prime no.\n",
      "37 is prime no.\n",
      "38 is not prime no.\n",
      "39 is not prime no.\n",
      "40 is not prime no.\n",
      "41 is prime no.\n",
      "42 is not prime no.\n",
      "43 is prime no.\n",
      "44 is not prime no.\n",
      "45 is not prime no.\n",
      "46 is not prime no.\n",
      "47 is prime no.\n",
      "48 is not prime no.\n",
      "49 is not prime no.\n",
      "50 is not prime no.\n",
      "51 is not prime no.\n",
      "52 is not prime no.\n",
      "53 is prime no.\n",
      "54 is not prime no.\n",
      "55 is not prime no.\n",
      "56 is not prime no.\n",
      "57 is not prime no.\n",
      "58 is not prime no.\n",
      "59 is prime no.\n",
      "60 is not prime no.\n",
      "61 is prime no.\n",
      "62 is not prime no.\n",
      "63 is not prime no.\n",
      "64 is not prime no.\n",
      "65 is not prime no.\n",
      "66 is not prime no.\n",
      "67 is prime no.\n",
      "68 is not prime no.\n",
      "69 is not prime no.\n",
      "70 is not prime no.\n",
      "71 is prime no.\n",
      "72 is not prime no.\n",
      "73 is prime no.\n",
      "74 is not prime no.\n",
      "75 is not prime no.\n",
      "76 is not prime no.\n",
      "77 is not prime no.\n",
      "78 is not prime no.\n",
      "79 is prime no.\n",
      "80 is not prime no.\n",
      "81 is not prime no.\n",
      "82 is not prime no.\n",
      "83 is prime no.\n",
      "84 is not prime no.\n",
      "85 is not prime no.\n",
      "86 is not prime no.\n",
      "87 is not prime no.\n",
      "88 is not prime no.\n",
      "89 is prime no.\n",
      "90 is not prime no.\n",
      "91 is not prime no.\n",
      "92 is not prime no.\n",
      "93 is not prime no.\n",
      "94 is not prime no.\n",
      "95 is not prime no.\n",
      "96 is not prime no.\n",
      "97 is prime no.\n",
      "98 is not prime no.\n",
      "99 is not prime no.\n",
      "100 is not prime no.\n",
      "101 is prime no.\n",
      "102 is not prime no.\n",
      "103 is prime no.\n",
      "104 is not prime no.\n",
      "105 is not prime no.\n",
      "106 is not prime no.\n",
      "107 is prime no.\n",
      "108 is not prime no.\n",
      "109 is prime no.\n",
      "110 is not prime no.\n",
      "111 is not prime no.\n",
      "112 is not prime no.\n",
      "113 is prime no.\n",
      "114 is not prime no.\n",
      "115 is not prime no.\n",
      "116 is not prime no.\n",
      "117 is not prime no.\n",
      "118 is not prime no.\n",
      "119 is not prime no.\n",
      "120 is not prime no.\n",
      "121 is not prime no.\n",
      "122 is not prime no.\n",
      "123 is not prime no.\n",
      "124 is not prime no.\n",
      "125 is not prime no.\n",
      "126 is not prime no.\n",
      "127 is prime no.\n",
      "128 is not prime no.\n",
      "129 is not prime no.\n",
      "130 is not prime no.\n",
      "131 is prime no.\n",
      "132 is not prime no.\n",
      "133 is not prime no.\n",
      "134 is not prime no.\n",
      "135 is not prime no.\n",
      "136 is not prime no.\n",
      "137 is prime no.\n",
      "138 is not prime no.\n",
      "139 is prime no.\n",
      "140 is not prime no.\n",
      "141 is not prime no.\n",
      "142 is not prime no.\n",
      "143 is not prime no.\n",
      "144 is not prime no.\n",
      "145 is not prime no.\n",
      "146 is not prime no.\n",
      "147 is not prime no.\n",
      "148 is not prime no.\n",
      "149 is prime no.\n",
      "150 is not prime no.\n",
      "151 is prime no.\n",
      "152 is not prime no.\n",
      "153 is not prime no.\n",
      "154 is not prime no.\n",
      "155 is not prime no.\n",
      "156 is not prime no.\n",
      "157 is prime no.\n",
      "158 is not prime no.\n",
      "159 is not prime no.\n",
      "160 is not prime no.\n",
      "161 is not prime no.\n",
      "162 is not prime no.\n",
      "163 is prime no.\n",
      "164 is not prime no.\n",
      "165 is not prime no.\n",
      "166 is not prime no.\n",
      "167 is prime no.\n",
      "168 is not prime no.\n",
      "169 is not prime no.\n",
      "170 is not prime no.\n",
      "171 is not prime no.\n",
      "172 is not prime no.\n",
      "173 is prime no.\n",
      "174 is not prime no.\n",
      "175 is not prime no.\n",
      "176 is not prime no.\n",
      "177 is not prime no.\n",
      "178 is not prime no.\n",
      "179 is prime no.\n",
      "180 is not prime no.\n",
      "181 is prime no.\n",
      "182 is not prime no.\n",
      "183 is not prime no.\n",
      "184 is not prime no.\n",
      "185 is not prime no.\n",
      "186 is not prime no.\n",
      "187 is not prime no.\n",
      "188 is not prime no.\n",
      "189 is not prime no.\n",
      "190 is not prime no.\n",
      "191 is prime no.\n",
      "192 is not prime no.\n",
      "193 is prime no.\n",
      "194 is not prime no.\n",
      "195 is not prime no.\n",
      "196 is not prime no.\n",
      "197 is prime no.\n",
      "198 is not prime no.\n",
      "199 is prime no.\n",
      "200 is not prime no.\n"
     ]
    }
   ],
   "source": [
    "check_prime_no_in_range(1,200)"
   ]
  },
  {
   "cell_type": "code",
   "execution_count": 6,
   "id": "3a84ac4d-6ce3-4d50-a21c-caf19dd3b7a5",
   "metadata": {},
   "outputs": [],
   "source": [
    "# Question 5)  Create an iterator class in Python that generates the Fibonacci sequence up to a specified number of terms.\n",
    "\n",
    "def fib(n):\n",
    "    a = 0\n",
    "    b = 1\n",
    "    for i in range(n) :\n",
    "        yield a\n",
    "        a, b = b, a + b  "
   ]
  },
  {
   "cell_type": "code",
   "execution_count": 7,
   "id": "7d4ee64c-3cf3-40ce-81e4-aef00dbe8b85",
   "metadata": {},
   "outputs": [
    {
     "data": {
      "text/plain": [
       "<generator object fib at 0x00000230FEAF66B0>"
      ]
     },
     "execution_count": 7,
     "metadata": {},
     "output_type": "execute_result"
    }
   ],
   "source": [
    "fib(10)"
   ]
  },
  {
   "cell_type": "code",
   "execution_count": 23,
   "id": "b939c7a4-a2d9-48a8-8256-90807223e37f",
   "metadata": {},
   "outputs": [],
   "source": [
    "fib_seq = fib(10)"
   ]
  },
  {
   "cell_type": "code",
   "execution_count": 24,
   "id": "7952c3d6-a078-47a5-a193-f64544b8158a",
   "metadata": {},
   "outputs": [
    {
     "data": {
      "text/plain": [
       "0"
      ]
     },
     "execution_count": 24,
     "metadata": {},
     "output_type": "execute_result"
    }
   ],
   "source": [
    "next(fib_seq)"
   ]
  },
  {
   "cell_type": "code",
   "execution_count": 25,
   "id": "5d52a3b7-2983-48cf-bb2a-532b3a8208a1",
   "metadata": {},
   "outputs": [
    {
     "data": {
      "text/plain": [
       "1"
      ]
     },
     "execution_count": 25,
     "metadata": {},
     "output_type": "execute_result"
    }
   ],
   "source": [
    "next(fib_seq)"
   ]
  },
  {
   "cell_type": "code",
   "execution_count": 26,
   "id": "a82649bf-6a3e-42e8-9ce6-d89cdc1b013d",
   "metadata": {},
   "outputs": [
    {
     "data": {
      "text/plain": [
       "1"
      ]
     },
     "execution_count": 26,
     "metadata": {},
     "output_type": "execute_result"
    }
   ],
   "source": [
    "next(fib_seq)"
   ]
  },
  {
   "cell_type": "code",
   "execution_count": 27,
   "id": "008411b2-5a19-4de9-8711-7ef88e99e928",
   "metadata": {},
   "outputs": [
    {
     "data": {
      "text/plain": [
       "2"
      ]
     },
     "execution_count": 27,
     "metadata": {},
     "output_type": "execute_result"
    }
   ],
   "source": [
    "next(fib_seq)"
   ]
  },
  {
   "cell_type": "code",
   "execution_count": 28,
   "id": "31695ec9-275c-450f-bf97-a7ac9544cb6d",
   "metadata": {},
   "outputs": [
    {
     "data": {
      "text/plain": [
       "3"
      ]
     },
     "execution_count": 28,
     "metadata": {},
     "output_type": "execute_result"
    }
   ],
   "source": [
    "next(fib_seq)"
   ]
  },
  {
   "cell_type": "code",
   "execution_count": 29,
   "id": "6ddd5349-4ac7-4fc4-8b63-f360df04120f",
   "metadata": {},
   "outputs": [
    {
     "data": {
      "text/plain": [
       "5"
      ]
     },
     "execution_count": 29,
     "metadata": {},
     "output_type": "execute_result"
    }
   ],
   "source": [
    "next(fib_seq)"
   ]
  },
  {
   "cell_type": "code",
   "execution_count": 30,
   "id": "4fc97c08-beda-4bc5-96cb-e41d60ac2c36",
   "metadata": {},
   "outputs": [
    {
     "data": {
      "text/plain": [
       "8"
      ]
     },
     "execution_count": 30,
     "metadata": {},
     "output_type": "execute_result"
    }
   ],
   "source": [
    "next(fib_seq)"
   ]
  },
  {
   "cell_type": "code",
   "execution_count": 31,
   "id": "933b6511-0ef1-4620-8b3e-9e9d20d0ad1f",
   "metadata": {},
   "outputs": [
    {
     "data": {
      "text/plain": [
       "13"
      ]
     },
     "execution_count": 31,
     "metadata": {},
     "output_type": "execute_result"
    }
   ],
   "source": [
    "next(fib_seq)"
   ]
  },
  {
   "cell_type": "code",
   "execution_count": 32,
   "id": "b17737cb-2d8a-4153-97e8-5a4eeeb2a1de",
   "metadata": {},
   "outputs": [
    {
     "data": {
      "text/plain": [
       "21"
      ]
     },
     "execution_count": 32,
     "metadata": {},
     "output_type": "execute_result"
    }
   ],
   "source": [
    "next(fib_seq)"
   ]
  },
  {
   "cell_type": "code",
   "execution_count": 33,
   "id": "9a8810ef-2aaf-4aa2-a150-71d7a6ea9ed3",
   "metadata": {},
   "outputs": [
    {
     "data": {
      "text/plain": [
       "34"
      ]
     },
     "execution_count": 33,
     "metadata": {},
     "output_type": "execute_result"
    }
   ],
   "source": [
    "next(fib_seq)"
   ]
  },
  {
   "cell_type": "code",
   "execution_count": 11,
   "id": "19bf1871-99da-449b-98f6-75c31d30fabe",
   "metadata": {},
   "outputs": [],
   "source": [
    "# Question 6)  Write a generator function in Python that yields the powers of 2 up to a given exponent.\n",
    "\n",
    "def power_of_2(n):\n",
    "    for p in range(n+1) :\n",
    "        yield  2**p"
   ]
  },
  {
   "cell_type": "code",
   "execution_count": 12,
   "id": "a93a41ff-f3e2-46b0-b65f-cd5ea2f38faf",
   "metadata": {},
   "outputs": [
    {
     "name": "stdout",
     "output_type": "stream",
     "text": [
      "1\n",
      "2\n",
      "4\n",
      "8\n",
      "16\n",
      "32\n",
      "64\n"
     ]
    }
   ],
   "source": [
    "for power in power_of_2(6):\n",
    "    print(power)"
   ]
  },
  {
   "cell_type": "code",
   "execution_count": 13,
   "id": "8ce58dc4-bdb1-40ab-9863-81536a3d5f1d",
   "metadata": {},
   "outputs": [],
   "source": [
    "# Question 7) Implement a generator function that reads a file line by line and yields each line as a string.\n",
    "\n",
    "\n",
    "\n",
    "\n",
    "\n"
   ]
  },
  {
   "cell_type": "code",
   "execution_count": 19,
   "id": "1e0b351f-6b76-40df-b077-259bd9de5cde",
   "metadata": {},
   "outputs": [
    {
     "name": "stdout",
     "output_type": "stream",
     "text": [
      "[(1, 2), (3, 2), (2, 3), (4, 3), (5, 4), (6, 7)]\n"
     ]
    }
   ],
   "source": [
    "# Question 8) Use a lambda function in Python to sort a list of tuples based on the second element of each tuple.\n",
    "tuple_list = [(6,7),(5,4),(2,3),(1,2),(3,2),(4,3)]\n",
    "sorted_list = sorted(tuple_list,key = lambda x : x[1])\n",
    "print(sorted_list)"
   ]
  },
  {
   "cell_type": "code",
   "execution_count": 21,
   "id": "d0af42a0-e051-4dcd-9d1e-7ba8f9991c69",
   "metadata": {},
   "outputs": [],
   "source": [
    "# Question 9) Write a Python program that uses `map()` to convert a list of temperatures from Celsius to Fahrenheit.\n",
    "celsius = [18,22,24,26,28,30,32,34,36,38,40]\n",
    "def cel_to_fah(n):\n",
    "    return (n * 9/5) + 32"
   ]
  },
  {
   "cell_type": "code",
   "execution_count": 25,
   "id": "fa2fedb3-9542-45fe-95cb-e2dadef502df",
   "metadata": {},
   "outputs": [
    {
     "name": "stdout",
     "output_type": "stream",
     "text": [
      "[64.4, 71.6, 75.2, 78.8, 82.4, 86.0, 89.6, 93.2, 96.8, 100.4, 104.0]\n"
     ]
    }
   ],
   "source": [
    "celsius_to_fahrenheit = list(map(cel_to_fah, celsius))\n",
    "print(celsius_to_fahrenheit)"
   ]
  },
  {
   "cell_type": "code",
   "execution_count": 3,
   "id": "a8c2d9f0-3ef7-4c92-9bd2-f12cd7bc1107",
   "metadata": {},
   "outputs": [],
   "source": [
    "# Question 10) Create a Python program that uses `filter()` to remove all the vowels from a given string.\n",
    "def filter(vow):\n",
    "    vowel = \"AaEeIiOoUu\" # defining vowels \n",
    "    result =\"\" \n",
    "    for i in vow : # iterating through each element in vow\n",
    "        if i not in vowel: # the element is not a vowel\n",
    "            result = result + i\n",
    "    return result"
   ]
  },
  {
   "cell_type": "code",
   "execution_count": 4,
   "id": "00d64040-e4e0-4d77-8199-8e8682f51c01",
   "metadata": {},
   "outputs": [
    {
     "data": {
      "text/plain": [
       "' hv  drm.'"
      ]
     },
     "execution_count": 4,
     "metadata": {},
     "output_type": "execute_result"
    }
   ],
   "source": [
    "filter(\"I have a dream.\") # "
   ]
  },
  {
   "cell_type": "code",
   "execution_count": 6,
   "id": "fc8ad59f-e549-4d5f-9911-82a4117365c6",
   "metadata": {},
   "outputs": [],
   "source": [
    "# Question 11) Imagine an accounting routine used in a book shop. It works on a list with sublists, which look like this:\n",
    "\n",
    "#Write a Python program, which returns a list with 2-tuples. Each tuple consists of the order number and the\n",
    "#product of the price per item and the quantity. The product should be increased by 10,- € if the value of the\n",
    "#order is smaller than 100,00 €.\n",
    "\n",
    "#Write a Python program using lambda and map.\n",
    "\n",
    "\n",
    "object = [[34587,4,40.95],[98762,5,56.80],[77226,3,32.95],[88112,3,24.99]] # it comprises order number, quantity and the product price"
   ]
  },
  {
   "cell_type": "code",
   "execution_count": 7,
   "id": "cddb76c0-72f1-47be-b927-a74dbcdd24f3",
   "metadata": {},
   "outputs": [],
   "source": [
    "order = list(map(lambda x : (x[0], x[1] * x[2] + (10 if x[1]*x[2] <100 else 0)), object))  #here you can see in the lambda we are using index to locate \n",
    "#elements that is asked in the question. you can we we have multiplied quantity with the product price in argument and the order no in other argument.\n",
    "# and called object \n",
    "# here i think we have used comprehension method"
   ]
  },
  {
   "cell_type": "code",
   "execution_count": 8,
   "id": "eac07fd0-c78c-4f3d-b4a5-4f0d3d180f0d",
   "metadata": {},
   "outputs": [
    {
     "name": "stdout",
     "output_type": "stream",
     "text": [
      "[(34587, 163.8), (98762, 284.0), (77226, 108.85000000000001), (88112, 84.97)]\n"
     ]
    }
   ],
   "source": [
    "print(order)"
   ]
  },
  {
   "cell_type": "code",
   "execution_count": null,
   "id": "4ed7a56b-5c52-442c-a0ac-3a03e32a1fd5",
   "metadata": {},
   "outputs": [],
   "source": []
  },
  {
   "cell_type": "code",
   "execution_count": null,
   "id": "a6d0d5e8-6d7e-4bd7-8102-528addef8b81",
   "metadata": {},
   "outputs": [],
   "source": []
  }
 ],
 "metadata": {
  "kernelspec": {
   "display_name": "Python 3 (ipykernel)",
   "language": "python",
   "name": "python3"
  },
  "language_info": {
   "codemirror_mode": {
    "name": "ipython",
    "version": 3
   },
   "file_extension": ".py",
   "mimetype": "text/x-python",
   "name": "python",
   "nbconvert_exporter": "python",
   "pygments_lexer": "ipython3",
   "version": "3.11.7"
  }
 },
 "nbformat": 4,
 "nbformat_minor": 5
}
