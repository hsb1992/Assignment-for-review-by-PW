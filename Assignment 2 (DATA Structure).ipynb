{
 "cells": [
  {
   "cell_type": "raw",
   "id": "a311c7d9-12fb-451f-8b09-ac951ee8b995",
   "metadata": {},
   "source": [
    "1. Discuss String slicing and provide examples?\n",
    "\n",
    "String slicing is a method for extracting a specific value from the string by using special syntax. The syntax for string slicing is string[start:stop:step] where,\n",
    "\n",
    "Start - index where the slice begins \n",
    "stop - index where the slice ends\n",
    "step - specific interval between indices\n",
    "\n",
    "there are various type of String slicing :\n"
   ]
  },
  {
   "cell_type": "code",
   "execution_count": 6,
   "id": "89f410e0-4898-41e3-bdf4-07a0ed706a58",
   "metadata": {},
   "outputs": [
    {
     "data": {
      "text/plain": [
       "'Sound'"
      ]
     },
     "execution_count": 6,
     "metadata": {},
     "output_type": "execute_result"
    }
   ],
   "source": [
    "# Extraction \n",
    "msg = \"Sound Please\"\n",
    "msg[0:5] # here we have extracted Sound from msg"
   ]
  },
  {
   "cell_type": "code",
   "execution_count": 4,
   "id": "f559fbe1-409e-4694-9197-8a54f7456f50",
   "metadata": {},
   "outputs": [
    {
     "data": {
      "text/plain": [
       "'ound Please'"
      ]
     },
     "execution_count": 4,
     "metadata": {},
     "output_type": "execute_result"
    }
   ],
   "source": [
    "# Omition \n",
    "msg[1:] #here we have omitted S from msg."
   ]
  },
  {
   "cell_type": "code",
   "execution_count": 15,
   "id": "dbcdff04-d30c-4fa0-a8fd-c9d797b07388",
   "metadata": {},
   "outputs": [
    {
     "data": {
      "text/plain": [
       "'e'"
      ]
     },
     "execution_count": 15,
     "metadata": {},
     "output_type": "execute_result"
    }
   ],
   "source": [
    "# Negative indices\n",
    "msg[-1:]"
   ]
  },
  {
   "cell_type": "code",
   "execution_count": 9,
   "id": "9258eae1-b2f7-433c-8ad0-d54562cc4b0d",
   "metadata": {},
   "outputs": [
    {
     "data": {
      "text/plain": [
       "'Sound Pleas'"
      ]
     },
     "execution_count": 9,
     "metadata": {},
     "output_type": "execute_result"
    }
   ],
   "source": [
    "msg[:-1]"
   ]
  },
  {
   "cell_type": "code",
   "execution_count": 16,
   "id": "3a9c19a8-e75a-4797-b6a5-f4bf4ac9e628",
   "metadata": {},
   "outputs": [
    {
     "data": {
      "text/plain": [
       "'esaelP dnuoS'"
      ]
     },
     "execution_count": 16,
     "metadata": {},
     "output_type": "execute_result"
    }
   ],
   "source": [
    "# reversing string\n",
    "msg[::-1] #"
   ]
  },
  {
   "cell_type": "code",
   "execution_count": 17,
   "id": "a894563c-2594-4054-b588-c354f52ceed6",
   "metadata": {},
   "outputs": [
    {
     "data": {
      "text/plain": [
       "'SudPe'"
      ]
     },
     "execution_count": 17,
     "metadata": {},
     "output_type": "execute_result"
    }
   ],
   "source": [
    "#using step\n",
    "msg [0:10:2]"
   ]
  },
  {
   "cell_type": "raw",
   "id": "fc0328ff-6729-44b9-a230-ca35ccf44305",
   "metadata": {},
   "source": [
    "2. Explain the key features of lists in python?\n",
    "\n",
    "Before explaining the the key features of lists in pythons lets talk about List. list is the most used ordered sequence of data structure.\n",
    "\n",
    "Key features of list :- "
   ]
  },
  {
   "cell_type": "code",
   "execution_count": 19,
   "id": "b0401f07-5792-47fb-876c-72bb7b9c63c6",
   "metadata": {},
   "outputs": [
    {
     "data": {
      "text/plain": [
       "1"
      ]
     },
     "execution_count": 19,
     "metadata": {},
     "output_type": "execute_result"
    }
   ],
   "source": [
    "# Ordered\n",
    "a=[1,2,3,4,5]\n",
    "a[0] # here it shows in 0 index we have 1"
   ]
  },
  {
   "cell_type": "code",
   "execution_count": 22,
   "id": "75ca24db-c675-49ba-9ea9-69b4ce5da092",
   "metadata": {},
   "outputs": [
    {
     "data": {
      "text/plain": [
       "[10, 2, 3, 4, 5]"
      ]
     },
     "execution_count": 22,
     "metadata": {},
     "output_type": "execute_result"
    }
   ],
   "source": [
    "# mutable\n",
    "a[0] = 10\n",
    "a # here we can see 1 changed to 10"
   ]
  },
  {
   "cell_type": "code",
   "execution_count": 24,
   "id": "06b9659b-d43c-42bb-89be-166d09c60cdb",
   "metadata": {},
   "outputs": [],
   "source": [
    "# Heterogenous \n",
    "b = [1,2,3,\"amit\",[3,3,3], True , 2.2]\n",
    "b.append('a+2b') # here we can see we have added different data type."
   ]
  },
  {
   "cell_type": "code",
   "execution_count": 25,
   "id": "bc87bd6b-6ff6-40dd-bbab-8da3140a2430",
   "metadata": {},
   "outputs": [
    {
     "data": {
      "text/plain": [
       "[1, 2, 3, 'amit', [3, 3, 3], True, 2.2, 'a+2b']"
      ]
     },
     "execution_count": 25,
     "metadata": {},
     "output_type": "execute_result"
    }
   ],
   "source": [
    "b"
   ]
  },
  {
   "cell_type": "code",
   "execution_count": 27,
   "id": "2e0c72f1-c84a-4e14-b401-6ac7662473ae",
   "metadata": {},
   "outputs": [
    {
     "data": {
      "text/plain": [
       "[2, 'amit']"
      ]
     },
     "execution_count": 27,
     "metadata": {},
     "output_type": "execute_result"
    }
   ],
   "source": [
    "#Slicing \n",
    "b[1:5:2] # we can do list slicing"
   ]
  },
  {
   "cell_type": "code",
   "execution_count": 28,
   "id": "5948bb17-66a1-40ae-89fd-f3418d01e0a4",
   "metadata": {},
   "outputs": [
    {
     "name": "stdout",
     "output_type": "stream",
     "text": [
      "1\n",
      "2\n",
      "3\n",
      "amit\n",
      "[3, 3, 3]\n",
      "True\n",
      "2.2\n",
      "a+2b\n"
     ]
    }
   ],
   "source": [
    "# Iteration \n",
    "for bb in b :\n",
    "   print(bb) # as we can see iteration can also be done "
   ]
  },
  {
   "cell_type": "code",
   "execution_count": 31,
   "id": "e6375ead-450d-47d6-8b9a-e34d35de0e06",
   "metadata": {},
   "outputs": [
    {
     "data": {
      "text/plain": [
       "[0, 10, 20, 30, 40, 50, 60, 70, 80, 90, 100, 110]"
      ]
     },
     "execution_count": 31,
     "metadata": {},
     "output_type": "execute_result"
    }
   ],
   "source": [
    "# list Comprehension\n",
    "[rates * 10 for rates in range(12)]"
   ]
  },
  {
   "cell_type": "raw",
   "id": "694cf401-1ad0-4381-a07d-e1e49602b9c3",
   "metadata": {},
   "source": [
    "3. Describe how to access, modify and delete  elements in a list  with example ?\n",
    "\n",
    "list in python are ordered collection of elements that can be accessed, modified and deleted.\n"
   ]
  },
  {
   "cell_type": "code",
   "execution_count": 1,
   "id": "91e0bc81-f09e-450a-b43e-aa218e70853b",
   "metadata": {},
   "outputs": [
    {
     "data": {
      "text/plain": [
       "32"
      ]
     },
     "execution_count": 1,
     "metadata": {},
     "output_type": "execute_result"
    }
   ],
   "source": [
    "# Access\n",
    "abc = [12,67,32,\"Bhayanak\",'Maut',2.3,5.2,True, False]\n",
    "\n",
    "# lets access 32 from the list\n",
    "abc[2]"
   ]
  },
  {
   "cell_type": "code",
   "execution_count": 3,
   "id": "cfb46099-9591-4559-992a-3ce2e9fea6c1",
   "metadata": {},
   "outputs": [
    {
     "data": {
      "text/plain": [
       "[12, 67, 98, 'Bhayanak', 'Maut', 2.3, 5.2, True, False]"
      ]
     },
     "execution_count": 3,
     "metadata": {},
     "output_type": "execute_result"
    }
   ],
   "source": [
    "# Modify\n",
    "#Lets modify 32 to 98\n",
    "abc[2] = 98\n",
    "abc"
   ]
  },
  {
   "cell_type": "code",
   "execution_count": 5,
   "id": "9a590887-e8b9-4d90-bf47-3e692b892b41",
   "metadata": {},
   "outputs": [],
   "source": [
    "# Delete\n",
    "# Method 1) lets delete 67 from the list abc \n",
    "del abc[1]"
   ]
  },
  {
   "cell_type": "code",
   "execution_count": 6,
   "id": "38f92399-0b18-41a9-b5de-79a1a21a841e",
   "metadata": {},
   "outputs": [
    {
     "data": {
      "text/plain": [
       "[12, 98, 'Bhayanak', 'Maut', 2.3, 5.2, True, False]"
      ]
     },
     "execution_count": 6,
     "metadata": {},
     "output_type": "execute_result"
    }
   ],
   "source": [
    "abc"
   ]
  },
  {
   "cell_type": "code",
   "execution_count": 8,
   "id": "b3904312-a04d-4abb-a066-4a48c8e31198",
   "metadata": {},
   "outputs": [
    {
     "data": {
      "text/plain": [
       "[12, 98, 'Bhayanak', 'Maut', 5.2, True, False]"
      ]
     },
     "execution_count": 8,
     "metadata": {},
     "output_type": "execute_result"
    }
   ],
   "source": [
    "# Method 2) Remove\n",
    "abc.remove(2.3)\n",
    "abc"
   ]
  },
  {
   "cell_type": "code",
   "execution_count": 10,
   "id": "c21136a0-f0a0-4da8-b3e2-4c91fa4622d4",
   "metadata": {},
   "outputs": [
    {
     "data": {
      "text/plain": [
       "True"
      ]
     },
     "execution_count": 10,
     "metadata": {},
     "output_type": "execute_result"
    }
   ],
   "source": [
    "# Method 3) .pop\n",
    "abc.pop() # deletes and shows the last element in the list"
   ]
  },
  {
   "cell_type": "raw",
   "id": "ed73e6f2-67ec-4aaa-8f62-9161d684f687",
   "metadata": {},
   "source": [
    "4. compare and contrast tuple and list with examples ?\n",
    "\n",
    "tuple and list both are both are sequence datatype and both can store different type of elements\n",
    "both tuple and list are heterogeneous and in order where we can iterate along with slice and index.\n"
   ]
  },
  {
   "cell_type": "code",
   "execution_count": 4,
   "id": "b66971f7-a877-4e1c-b942-fbf1cbea4fb9",
   "metadata": {},
   "outputs": [
    {
     "data": {
      "text/plain": [
       "tuple"
      ]
     },
     "execution_count": 4,
     "metadata": {},
     "output_type": "execute_result"
    }
   ],
   "source": [
    "# Tuple\n",
    "tuple = (1,2,\"maut\",\"search\",2.3,3.4,True,\"2i + 3\")\n",
    "type(tuple)"
   ]
  },
  {
   "cell_type": "code",
   "execution_count": 5,
   "id": "d986d14f-8cad-438c-806b-2288cdbc585a",
   "metadata": {},
   "outputs": [
    {
     "data": {
      "text/plain": [
       "(1, 2, 'maut', 'search', 2.3, 3.4, True, '2i + 3')"
      ]
     },
     "execution_count": 5,
     "metadata": {},
     "output_type": "execute_result"
    }
   ],
   "source": [
    "tuple # they are stored in order and heterogenous elements are there"
   ]
  },
  {
   "cell_type": "code",
   "execution_count": 6,
   "id": "1b6d5298-4ced-478b-90b9-7bd891f4c182",
   "metadata": {},
   "outputs": [
    {
     "data": {
      "text/plain": [
       "(1, 2, 'maut', 'search')"
      ]
     },
     "execution_count": 6,
     "metadata": {},
     "output_type": "execute_result"
    }
   ],
   "source": [
    "tuple[0:4] # sliced"
   ]
  },
  {
   "cell_type": "code",
   "execution_count": 7,
   "id": "fe343da8-14d4-4451-8524-4189bd4bb7b5",
   "metadata": {},
   "outputs": [
    {
     "data": {
      "text/plain": [
       "'maut'"
      ]
     },
     "execution_count": 7,
     "metadata": {},
     "output_type": "execute_result"
    }
   ],
   "source": [
    "tuple [2] # indexed"
   ]
  },
  {
   "cell_type": "code",
   "execution_count": 10,
   "id": "1b7c5111-678d-45bf-8cfb-3495394b204f",
   "metadata": {},
   "outputs": [
    {
     "data": {
      "text/plain": [
       "[1, 2, 'maut', 'search', 2.3, 3.4, True, '2i + 3']"
      ]
     },
     "execution_count": 10,
     "metadata": {},
     "output_type": "execute_result"
    }
   ],
   "source": [
    "# list \n",
    "list =[1,2,\"maut\",\"search\",2.3,3.4,True,\"2i + 3\"]\n",
    "list # they are stored in order and heterogenous elements are there"
   ]
  },
  {
   "cell_type": "code",
   "execution_count": 11,
   "id": "65a2b9f7-dd37-4207-b732-a3ad020b5193",
   "metadata": {},
   "outputs": [
    {
     "data": {
      "text/plain": [
       "[2, 'maut', 'search', 2.3]"
      ]
     },
     "execution_count": 11,
     "metadata": {},
     "output_type": "execute_result"
    }
   ],
   "source": [
    "list[1:5] # sliced"
   ]
  },
  {
   "cell_type": "code",
   "execution_count": 12,
   "id": "086699c7-a337-4485-b4b8-0d79f7aa8036",
   "metadata": {},
   "outputs": [
    {
     "data": {
      "text/plain": [
       "'maut'"
      ]
     },
     "execution_count": 12,
     "metadata": {},
     "output_type": "execute_result"
    }
   ],
   "source": [
    "list[2] # indexed"
   ]
  },
  {
   "cell_type": "raw",
   "id": "d044a43e-2784-463f-a008-b6e27d27cbeb",
   "metadata": {},
   "source": [
    "difference between tuple and list are as follows\n",
    "\n",
    "1.as per the creation we can see tuple is created by \" () \" and list is created by \" [] \"\n"
   ]
  },
  {
   "cell_type": "code",
   "execution_count": 13,
   "id": "e4e1a28f-d3dd-4515-90b8-f32a05b4f096",
   "metadata": {},
   "outputs": [
    {
     "data": {
      "text/plain": [
       "(1, 2, 'maut', 'search', 2.3, 3.4, True, '2i + 3')"
      ]
     },
     "execution_count": 13,
     "metadata": {},
     "output_type": "execute_result"
    }
   ],
   "source": [
    "# 2. Mutabilty\n",
    "\n",
    "# tuple is immutable\n",
    "tuple"
   ]
  },
  {
   "cell_type": "code",
   "execution_count": 14,
   "id": "2ff8dfcf-3448-4755-9e17-9f67b123a666",
   "metadata": {},
   "outputs": [
    {
     "ename": "TypeError",
     "evalue": "'tuple' object does not support item assignment",
     "output_type": "error",
     "traceback": [
      "\u001b[1;31m---------------------------------------------------------------------------\u001b[0m",
      "\u001b[1;31mTypeError\u001b[0m                                 Traceback (most recent call last)",
      "Cell \u001b[1;32mIn[14], line 1\u001b[0m\n\u001b[1;32m----> 1\u001b[0m \u001b[38;5;28mtuple\u001b[39m[\u001b[38;5;241m2\u001b[39m] \u001b[38;5;241m=\u001b[39m \u001b[38;5;241m3\u001b[39m\n",
      "\u001b[1;31mTypeError\u001b[0m: 'tuple' object does not support item assignment"
     ]
    }
   ],
   "source": [
    "tuple[2] = 3 # we cannot change the element >>> immutable"
   ]
  },
  {
   "cell_type": "code",
   "execution_count": 15,
   "id": "08b82be2-13ba-4cfd-ab4f-210a58693b69",
   "metadata": {},
   "outputs": [
    {
     "data": {
      "text/plain": [
       "[1, 2, 'maut', 'search', 2.3, 3.4, True, '2i + 3']"
      ]
     },
     "execution_count": 15,
     "metadata": {},
     "output_type": "execute_result"
    }
   ],
   "source": [
    "# list is mutable\n",
    "list"
   ]
  },
  {
   "cell_type": "code",
   "execution_count": 16,
   "id": "ee2fdb05-bb88-40ab-86c9-7514d185e314",
   "metadata": {},
   "outputs": [],
   "source": [
    "list[3] = \"Zindagi\""
   ]
  },
  {
   "cell_type": "code",
   "execution_count": 18,
   "id": "3633d25c-c343-46ed-a6c0-f4f30aac571d",
   "metadata": {},
   "outputs": [
    {
     "data": {
      "text/plain": [
       "[1, 2, 'maut', 'Zindagi', 2.3, 3.4, True, '2i + 3']"
      ]
     },
     "execution_count": 18,
     "metadata": {},
     "output_type": "execute_result"
    }
   ],
   "source": [
    "list # we can see it changed \"Search\" into \" Zindagi\" >>> mutable"
   ]
  },
  {
   "cell_type": "raw",
   "id": "995d3cd3-bff7-47a5-a985-0a6464ef651a",
   "metadata": {},
   "source": [
    "List is mainly suitable for collection of item that changes and tuple is suitable for cordinates and days of the week.\n"
   ]
  },
  {
   "cell_type": "code",
   "execution_count": 19,
   "id": "84b9ac9c-8b40-4c6f-9991-2d44e341a2a2",
   "metadata": {},
   "outputs": [
    {
     "data": {
      "text/plain": [
       "[1, 2, 'maut', 'Zindagi', 2.3, 3.4, True, '2i + 3']"
      ]
     },
     "execution_count": 19,
     "metadata": {},
     "output_type": "execute_result"
    }
   ],
   "source": [
    "list"
   ]
  },
  {
   "cell_type": "code",
   "execution_count": 20,
   "id": "a1c10c88-a11e-4ac2-8bf2-c6fd49ed2f40",
   "metadata": {},
   "outputs": [],
   "source": [
    "list.append(0)"
   ]
  },
  {
   "cell_type": "code",
   "execution_count": 21,
   "id": "bdf7412b-66d2-4fc5-9b72-082175b0973e",
   "metadata": {},
   "outputs": [
    {
     "data": {
      "text/plain": [
       "[1, 2, 'maut', 'Zindagi', 2.3, 3.4, True, '2i + 3', 0]"
      ]
     },
     "execution_count": 21,
     "metadata": {},
     "output_type": "execute_result"
    }
   ],
   "source": [
    "list # changes in list"
   ]
  },
  {
   "cell_type": "code",
   "execution_count": 22,
   "id": "46767d27-c9c0-4744-bc33-4b046c0072e3",
   "metadata": {},
   "outputs": [
    {
     "data": {
      "text/plain": [
       "(1, 2, 'maut', 'search', 2.3, 3.4, True, '2i + 3')"
      ]
     },
     "execution_count": 22,
     "metadata": {},
     "output_type": "execute_result"
    }
   ],
   "source": [
    "tuple"
   ]
  },
  {
   "cell_type": "code",
   "execution_count": 23,
   "id": "3c7d4dd9-76f5-4bc3-b9ee-0bfb9057e330",
   "metadata": {},
   "outputs": [],
   "source": [
    "days= ('Sunday','Monday','tuesday','wednesday','thursday','friday','saturday')"
   ]
  },
  {
   "cell_type": "code",
   "execution_count": 24,
   "id": "5e545f87-6172-4a7a-8011-5fb6513c45da",
   "metadata": {},
   "outputs": [
    {
     "data": {
      "text/plain": [
       "('Sunday', 'Monday', 'tuesday', 'wednesday', 'thursday', 'friday', 'saturday')"
      ]
     },
     "execution_count": 24,
     "metadata": {},
     "output_type": "execute_result"
    }
   ],
   "source": [
    "days"
   ]
  },
  {
   "cell_type": "raw",
   "id": "71bf3240-c8b3-4b20-9f3a-75d9acf80d3f",
   "metadata": {},
   "source": [
    "5. Describe the key features of Sets and provide examples of their uses ?\n",
    "\n",
    "Features of Sets are - "
   ]
  },
  {
   "cell_type": "code",
   "execution_count": 2,
   "id": "e6e360b1-521c-4551-ae7e-9082a7153d0e",
   "metadata": {},
   "outputs": [
    {
     "data": {
      "text/plain": [
       "{1, 2, 3, 4, 5}"
      ]
     },
     "execution_count": 2,
     "metadata": {},
     "output_type": "execute_result"
    }
   ],
   "source": [
    "# 1. Unordered Collection - as there are no duplicate elements every element is unique so order doesnt matters.\n",
    "# example \n",
    "x = {1,2,3,4,5,1,1,1,2,3,3}\n",
    "x "
   ]
  },
  {
   "cell_type": "code",
   "execution_count": 3,
   "id": "d2671036-26d2-4277-8f95-ad6aecec072a",
   "metadata": {},
   "outputs": [
    {
     "name": "stdout",
     "output_type": "stream",
     "text": [
      "{1, 2, 3, 4, 5}\n"
     ]
    }
   ],
   "source": [
    "# 2. Non Duplicate Elements - as there are only unique elements, there is no duplication of elements \n",
    "# example \n",
    "print(x)"
   ]
  },
  {
   "cell_type": "code",
   "execution_count": 4,
   "id": "b2a89cff-849e-43a7-8788-edda283245ae",
   "metadata": {},
   "outputs": [],
   "source": [
    "# 3. Mutable - you can add and remove elements \n",
    "# example \n",
    "abc = {11,22,33,44,55,66,77}\n",
    "abc.add(88)"
   ]
  },
  {
   "cell_type": "code",
   "execution_count": 5,
   "id": "621059cd-1ea9-42ab-93e1-d6e669565399",
   "metadata": {},
   "outputs": [
    {
     "data": {
      "text/plain": [
       "{11, 22, 33, 44, 55, 66, 77, 88}"
      ]
     },
     "execution_count": 5,
     "metadata": {},
     "output_type": "execute_result"
    }
   ],
   "source": [
    "abc"
   ]
  },
  {
   "cell_type": "code",
   "execution_count": 6,
   "id": "a995f298-8ada-4ba3-b70a-9dcee7ed32dc",
   "metadata": {},
   "outputs": [],
   "source": [
    "abc.remove(88)"
   ]
  },
  {
   "cell_type": "code",
   "execution_count": 7,
   "id": "8dc967c1-70dc-46f0-a25f-c7962e5d99f3",
   "metadata": {},
   "outputs": [
    {
     "data": {
      "text/plain": [
       "{11, 22, 33, 44, 55, 66, 77}"
      ]
     },
     "execution_count": 7,
     "metadata": {},
     "output_type": "execute_result"
    }
   ],
   "source": [
    "abc"
   ]
  },
  {
   "cell_type": "code",
   "execution_count": 9,
   "id": "ee9a5428-95ee-4866-8ea7-9413aae27e41",
   "metadata": {},
   "outputs": [
    {
     "name": "stdout",
     "output_type": "stream",
     "text": [
      "a c e f b d "
     ]
    }
   ],
   "source": [
    "# 4. iteration - we can do iteration\n",
    "xyz = {'a','b','c','d','e','f'}\n",
    "for i in xyz :\n",
    "    print(i,end=\" \")"
   ]
  },
  {
   "cell_type": "code",
   "execution_count": 14,
   "id": "a9506bf6-2ad1-4c1b-9f85-76f951a6e65d",
   "metadata": {},
   "outputs": [
    {
     "name": "stdout",
     "output_type": "stream",
     "text": [
      "True baby\n"
     ]
    }
   ],
   "source": [
    "# 5. Membership testing -\n",
    "zab = {1,2,3}\n",
    "print(1 in zab, \"baby\")"
   ]
  },
  {
   "cell_type": "code",
   "execution_count": 15,
   "id": "713b2df3-6210-46ce-a65b-c3a828ac4699",
   "metadata": {},
   "outputs": [
    {
     "name": "stdout",
     "output_type": "stream",
     "text": [
      "{1, 2, 3, 4, 5, 6, 7, 8}\n"
     ]
    }
   ],
   "source": [
    "# 6. Mathematical operations - \n",
    "# union >>> the symbol for it is {|}. it combines elements from both sets\n",
    "# example\n",
    "dlf = {1,2,3,4}\n",
    "fld = {4,5,6,7,8}\n",
    "df = dlf | fld\n",
    "print(df)"
   ]
  },
  {
   "cell_type": "code",
   "execution_count": 16,
   "id": "e3d262e0-42b0-4702-aba3-59927238c84f",
   "metadata": {},
   "outputs": [
    {
     "data": {
      "text/plain": [
       "{1, 2, 3, 4}"
      ]
     },
     "execution_count": 16,
     "metadata": {},
     "output_type": "execute_result"
    }
   ],
   "source": [
    "# intersection >>> the symbol is { & }, it takes the elements which are common between both the sets \n",
    "# example\n",
    "dlf"
   ]
  },
  {
   "cell_type": "code",
   "execution_count": 17,
   "id": "e2caf4aa-ca46-4ea1-adc6-b04fcd84a42f",
   "metadata": {},
   "outputs": [
    {
     "data": {
      "text/plain": [
       "{4, 5, 6, 7, 8}"
      ]
     },
     "execution_count": 17,
     "metadata": {},
     "output_type": "execute_result"
    }
   ],
   "source": [
    "fld"
   ]
  },
  {
   "cell_type": "code",
   "execution_count": 19,
   "id": "805d8986-499a-4d17-ac47-5262f928741e",
   "metadata": {},
   "outputs": [
    {
     "data": {
      "text/plain": [
       "{4}"
      ]
     },
     "execution_count": 19,
     "metadata": {},
     "output_type": "execute_result"
    }
   ],
   "source": [
    "dl = dlf & fld \n",
    "dl"
   ]
  },
  {
   "cell_type": "code",
   "execution_count": 20,
   "id": "3c688fff-4a57-494b-9c00-c8f5cc9b2f51",
   "metadata": {},
   "outputs": [
    {
     "data": {
      "text/plain": [
       "{1, 2, 3}"
      ]
     },
     "execution_count": 20,
     "metadata": {},
     "output_type": "execute_result"
    }
   ],
   "source": [
    "# difference >>> element which is in one set not in other. denoted by { - }\n",
    "#example\n",
    "diff = dlf - fld\n",
    "diff"
   ]
  },
  {
   "cell_type": "code",
   "execution_count": 21,
   "id": "d67ef69b-cefb-440c-bb17-818cb951debc",
   "metadata": {},
   "outputs": [
    {
     "data": {
      "text/plain": [
       "{1, 2, 3, 5, 6, 7, 8}"
      ]
     },
     "execution_count": 21,
     "metadata": {},
     "output_type": "execute_result"
    }
   ],
   "source": [
    "# symmetric difference >>> combines all elements except the common onces, denoted by { ^ }\n",
    "sym = dlf ^ fld\n",
    "sym"
   ]
  },
  {
   "cell_type": "raw",
   "id": "82cd883b-d6d1-4702-8bb5-557fb6b76e34",
   "metadata": {},
   "source": [
    "6. Discuss the used cases of tuple and set in python programming ?\n",
    "\n",
    "The used cases of tuple and set in python"
   ]
  },
  {
   "cell_type": "code",
   "execution_count": 46,
   "id": "ad1e01b8-3a3e-44d5-af7a-cbf05f6993a4",
   "metadata": {},
   "outputs": [
    {
     "data": {
      "text/plain": [
       "{(' sanjay', 30, ' LKO '), ('abhay', 40, ' BLR '), ('azhar', 35, ' HYD ')}"
      ]
     },
     "execution_count": 46,
     "metadata": {},
     "output_type": "execute_result"
    }
   ],
   "source": [
    "# used cases for tuple \n",
    "details ={(\" sanjay\", 30 ,\" LKO \"),(\"abhay\", 40,\" BLR \"),(\"azhar\", 35, \" HYD \")}\n",
    "details"
   ]
  },
  {
   "cell_type": "code",
   "execution_count": 47,
   "id": "9419907c-4a2b-44a4-9da7-c40c8d8e0bcb",
   "metadata": {},
   "outputs": [],
   "source": [
    "# used case for set"
   ]
  },
  {
   "cell_type": "code",
   "execution_count": 51,
   "id": "11a773d4-6064-4adc-b97b-f5ae03701e5e",
   "metadata": {},
   "outputs": [],
   "source": [
    "students_in_class_english = {\"John\", \"Alice\", \"Sam\"}\n",
    "students_in_class_maths = {\"Alice\", \"Bob\", \"Charlie\"}\n",
    "Student_in_both_class = students_in_class_english & students_in_class_maths"
   ]
  },
  {
   "cell_type": "code",
   "execution_count": 53,
   "id": "2c07fa09-8d0f-49b7-be4d-add85a919a45",
   "metadata": {},
   "outputs": [
    {
     "name": "stdout",
     "output_type": "stream",
     "text": [
      "{'Alice'}\n"
     ]
    }
   ],
   "source": [
    "print(Student_in_both_class)"
   ]
  },
  {
   "cell_type": "raw",
   "id": "8726e4ae-e748-4ee7-9a21-32decb195a8f",
   "metadata": {},
   "source": [
    "7. Describe how to add, modify and delete items in a dictionary with examples ?\n",
    "\n",
    "Dictionary are the mutable collection of paired elements, it means we can add, modify and delete items from it.\n"
   ]
  },
  {
   "cell_type": "code",
   "execution_count": 54,
   "id": "0cd8f755-de05-4dd6-913b-079a96a5cd7f",
   "metadata": {},
   "outputs": [],
   "source": [
    "Employee = { \"Name\" : \"Santosh\" , \"Age\" : 38 , \"City\" : \" BLR \" }\n"
   ]
  },
  {
   "cell_type": "code",
   "execution_count": 55,
   "id": "942db29a-fe1a-4df2-9f2f-1a4e7964576a",
   "metadata": {},
   "outputs": [
    {
     "data": {
      "text/plain": [
       "{'Name': 'Santosh', 'Age': 38, 'City': ' BLR '}"
      ]
     },
     "execution_count": 55,
     "metadata": {},
     "output_type": "execute_result"
    }
   ],
   "source": [
    "Employee"
   ]
  },
  {
   "cell_type": "code",
   "execution_count": 56,
   "id": "d7de4d7d-9eb9-4cfd-8926-6586fa099dd4",
   "metadata": {},
   "outputs": [
    {
     "data": {
      "text/plain": [
       "{'Name': 'Santosh', 'Age': 38, 'City': ' BLR ', 'Department': ' Developer '}"
      ]
     },
     "execution_count": 56,
     "metadata": {},
     "output_type": "execute_result"
    }
   ],
   "source": [
    "# lets add \"Department\" as \"Developer\" in the dictionary\n",
    "Employee[\"Department\"] = \" Developer \"\n",
    "Employee"
   ]
  },
  {
   "cell_type": "code",
   "execution_count": 59,
   "id": "a3e69b7c-8a87-412a-b772-bf38e461e9c7",
   "metadata": {},
   "outputs": [
    {
     "data": {
      "text/plain": [
       "{'Name': 'Santosh',\n",
       " 'Age': 42,\n",
       " 'City': ' BLR ',\n",
       " 'Department': ' Developer ',\n",
       " 'age': 42}"
      ]
     },
     "execution_count": 59,
     "metadata": {},
     "output_type": "execute_result"
    }
   ],
   "source": [
    "# lets Modify \" Age \" as \"42\" \n",
    "Employee[\"age\"] = 42\n",
    "Employee"
   ]
  },
  {
   "cell_type": "code",
   "execution_count": 60,
   "id": "5621780f-d8a1-40be-8426-92568ed10368",
   "metadata": {},
   "outputs": [
    {
     "data": {
      "text/plain": [
       "{'Name': 'Santosh',\n",
       " 'Age': 42,\n",
       " 'City': ' BLR ',\n",
       " 'Department': ' Developer ',\n",
       " 'age': 42}"
      ]
     },
     "execution_count": 60,
     "metadata": {},
     "output_type": "execute_result"
    }
   ],
   "source": [
    "Employee"
   ]
  },
  {
   "cell_type": "code",
   "execution_count": 61,
   "id": "e00545fa-0dc6-4929-bd7c-c93b4913563a",
   "metadata": {},
   "outputs": [
    {
     "data": {
      "text/plain": [
       "{'Name': 'Santosh', 'Age': 42, 'City': ' BLR ', 'Department': ' Developer '}"
      ]
     },
     "execution_count": 61,
     "metadata": {},
     "output_type": "execute_result"
    }
   ],
   "source": [
    "#lets delete \" age \" from the dictionary\n",
    "del Employee[\"age\"]\n",
    "Employee"
   ]
  },
  {
   "cell_type": "code",
   "execution_count": 62,
   "id": "dc335747-d595-4245-a511-5c66b4cebfd0",
   "metadata": {},
   "outputs": [
    {
     "data": {
      "text/plain": [
       "{'Name': 'Santosh', 'Age': 42, 'City': ' BLR '}"
      ]
     },
     "execution_count": 62,
     "metadata": {},
     "output_type": "execute_result"
    }
   ],
   "source": [
    "#Lets use POP to delete \n",
    "Employee.pop(\"Department\")\n",
    "Employee"
   ]
  },
  {
   "cell_type": "raw",
   "id": "c47fdadd-a1d0-449f-b8a8-694cc0364f8f",
   "metadata": {},
   "source": [
    "8. Discuss the importance of Dictionary keys being immutable and provide examples?\n",
    "\n",
    "The importance of dictionary key being immutable is the hashablity of it and for that elements in pairs should be immutable, it shouldnt change.\n",
    "\n",
    "the best example show is to why it is important for dictionary to be immutable."
   ]
  },
  {
   "cell_type": "code",
   "execution_count": 65,
   "id": "a36bb3c8-3b14-4945-95d7-09da5d98d078",
   "metadata": {},
   "outputs": [
    {
     "name": "stdout",
     "output_type": "stream",
     "text": [
      "1\n"
     ]
    }
   ],
   "source": [
    "dictionary = {('a','b','c') : 1, ('x','y','z') : 26}\n",
    "print(dictionary[('a','b','c')])"
   ]
  },
  {
   "cell_type": "code",
   "execution_count": 67,
   "id": "dee06feb-9914-4a42-bc14-e93b796ee4e4",
   "metadata": {},
   "outputs": [
    {
     "ename": "TypeError",
     "evalue": "unhashable type: 'list'",
     "output_type": "error",
     "traceback": [
      "\u001b[1;31m---------------------------------------------------------------------------\u001b[0m",
      "\u001b[1;31mTypeError\u001b[0m                                 Traceback (most recent call last)",
      "Cell \u001b[1;32mIn[67], line 2\u001b[0m\n\u001b[0;32m      1\u001b[0m \u001b[38;5;66;03m#example of Mutables \u001b[39;00m\n\u001b[1;32m----> 2\u001b[0m dictionary1 \u001b[38;5;241m=\u001b[39m {[\u001b[38;5;124m\"\u001b[39m\u001b[38;5;124ma\u001b[39m\u001b[38;5;124m\"\u001b[39m, \u001b[38;5;124m\"\u001b[39m\u001b[38;5;124mx\u001b[39m\u001b[38;5;124m\"\u001b[39m]: \u001b[38;5;241m12\u001b[39m}\n",
      "\u001b[1;31mTypeError\u001b[0m: unhashable type: 'list'"
     ]
    }
   ],
   "source": [
    "#example of Mutables \n",
    "dictionary1 = {[\"a\", \"x\"]: 12}"
   ]
  },
  {
   "cell_type": "code",
   "execution_count": null,
   "id": "2d0014de-6d6e-4de5-8fff-fb192b2b9fd3",
   "metadata": {},
   "outputs": [],
   "source": [
    "# here we have seen the reason of why the dictionary are immutable coz if we are aloowed to add, delete or modify the list after it is used as a key\n",
    "#will change the hashability value of the list and which will make the list unconsistant and impossible to locate the associated value."
   ]
  }
 ],
 "metadata": {
  "kernelspec": {
   "display_name": "Python 3 (ipykernel)",
   "language": "python",
   "name": "python3"
  },
  "language_info": {
   "codemirror_mode": {
    "name": "ipython",
    "version": 3
   },
   "file_extension": ".py",
   "mimetype": "text/x-python",
   "name": "python",
   "nbconvert_exporter": "python",
   "pygments_lexer": "ipython3",
   "version": "3.11.7"
  }
 },
 "nbformat": 4,
 "nbformat_minor": 5
}
