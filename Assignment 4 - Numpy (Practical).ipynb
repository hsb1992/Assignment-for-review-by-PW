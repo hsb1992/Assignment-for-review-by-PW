{
 "cells": [
  {
   "cell_type": "code",
   "execution_count": 73,
   "id": "dd968b11-104f-4402-a35e-d33db9659496",
   "metadata": {},
   "outputs": [],
   "source": [
    "import numpy as np"
   ]
  },
  {
   "cell_type": "code",
   "execution_count": 74,
   "id": "81a55fb0-2980-4731-bcb1-538809f33ee7",
   "metadata": {},
   "outputs": [
    {
     "data": {
      "text/plain": [
       "array([[ 7, 35, 81],\n",
       "       [97,  3, 59],\n",
       "       [66, 80, 90]])"
      ]
     },
     "execution_count": 74,
     "metadata": {},
     "output_type": "execute_result"
    }
   ],
   "source": [
    "# 1. Create a 3x3 NumPy array with random integers between 1 and 100. Then,\n",
    "# interchange its rows and columns.\n",
    "\n",
    "arr = np.random.randint(1,101,(3,3))\n",
    "arr"
   ]
  },
  {
   "cell_type": "code",
   "execution_count": 75,
   "id": "00599bde-8aac-44a9-ae77-c2277cede710",
   "metadata": {},
   "outputs": [
    {
     "data": {
      "text/plain": [
       "array([[ 7, 97, 66],\n",
       "       [35,  3, 80],\n",
       "       [81, 59, 90]])"
      ]
     },
     "execution_count": 75,
     "metadata": {},
     "output_type": "execute_result"
    }
   ],
   "source": [
    "transpose_arr = arr.T\n",
    "transpose_arr"
   ]
  },
  {
   "cell_type": "code",
   "execution_count": 76,
   "id": "2774784a-7087-4e4d-b81c-86872de49a59",
   "metadata": {},
   "outputs": [],
   "source": [
    "# 2. Generate a 1D NumPy array with 10 elements. Reshape it into a 2x5 array,\n",
    "# then into a 5x2 array.\n"
   ]
  },
  {
   "cell_type": "code",
   "execution_count": 77,
   "id": "4fc85791-bb78-4a9b-a397-25a568963a7e",
   "metadata": {},
   "outputs": [
    {
     "data": {
      "text/plain": [
       "array([ 1,  2,  3,  4,  5,  6,  7,  8,  9, 10])"
      ]
     },
     "execution_count": 77,
     "metadata": {},
     "output_type": "execute_result"
    }
   ],
   "source": [
    "arr_1d = np.array([1,2,3,4,5,6,7,8,9,10])\n",
    "arr_1d"
   ]
  },
  {
   "cell_type": "code",
   "execution_count": 78,
   "id": "35ad9b79-98c7-43e9-befe-403f7274a769",
   "metadata": {},
   "outputs": [
    {
     "data": {
      "text/plain": [
       "array([[ 1,  2,  3,  4,  5],\n",
       "       [ 6,  7,  8,  9, 10]])"
      ]
     },
     "execution_count": 78,
     "metadata": {},
     "output_type": "execute_result"
    }
   ],
   "source": [
    "arr_1d.reshape(2,5)"
   ]
  },
  {
   "cell_type": "code",
   "execution_count": 79,
   "id": "ae4ac671-2a21-4e08-bd98-331c3d115a44",
   "metadata": {},
   "outputs": [
    {
     "data": {
      "text/plain": [
       "array([[ 1,  2],\n",
       "       [ 3,  4],\n",
       "       [ 5,  6],\n",
       "       [ 7,  8],\n",
       "       [ 9, 10]])"
      ]
     },
     "execution_count": 79,
     "metadata": {},
     "output_type": "execute_result"
    }
   ],
   "source": [
    "arr_1d.reshape(5,2)"
   ]
  },
  {
   "cell_type": "code",
   "execution_count": 80,
   "id": "243c92ec-8ccd-4ec7-9f20-65b858949a4a",
   "metadata": {},
   "outputs": [],
   "source": [
    "# 3. Create a 4x4 NumPy array with random float values. Add a border of zeros around it, \n",
    "# resulting in a 6x6 array.\n"
   ]
  },
  {
   "cell_type": "code",
   "execution_count": 81,
   "id": "760372d8-1f9b-4b53-b024-fbd301e5a2ac",
   "metadata": {},
   "outputs": [
    {
     "data": {
      "text/plain": [
       "array([[0.97539326, 0.60500597, 0.85923591, 0.26631183],\n",
       "       [0.47550673, 0.93705978, 0.37772048, 0.82723669],\n",
       "       [0.98814668, 0.07926626, 0.90939344, 0.9690793 ],\n",
       "       [0.99771572, 0.48876771, 0.9581071 , 0.80634895]])"
      ]
     },
     "execution_count": 81,
     "metadata": {},
     "output_type": "execute_result"
    }
   ],
   "source": [
    "array1 = np.random.rand(4,4)\n",
    "array1"
   ]
  },
  {
   "cell_type": "code",
   "execution_count": 82,
   "id": "b8c6360b-26a7-4a20-9119-0808730e02db",
   "metadata": {},
   "outputs": [
    {
     "data": {
      "text/plain": [
       "array([[0.        , 0.        , 0.        , 0.        , 0.        ,\n",
       "        0.        ],\n",
       "       [0.        , 0.97539326, 0.60500597, 0.85923591, 0.26631183,\n",
       "        0.        ],\n",
       "       [0.        , 0.47550673, 0.93705978, 0.37772048, 0.82723669,\n",
       "        0.        ],\n",
       "       [0.        , 0.98814668, 0.07926626, 0.90939344, 0.9690793 ,\n",
       "        0.        ],\n",
       "       [0.        , 0.99771572, 0.48876771, 0.9581071 , 0.80634895,\n",
       "        0.        ],\n",
       "       [0.        , 0.        , 0.        , 0.        , 0.        ,\n",
       "        0.        ]])"
      ]
     },
     "execution_count": 82,
     "metadata": {},
     "output_type": "execute_result"
    }
   ],
   "source": [
    "np.pad(array1,pad_width =1)"
   ]
  },
  {
   "cell_type": "code",
   "execution_count": 83,
   "id": "c0d95e64-d3fd-48da-bd54-bc500c388dd9",
   "metadata": {},
   "outputs": [
    {
     "data": {
      "text/plain": [
       "array([10, 15, 20, 25, 30, 35, 40, 45, 50, 55, 60])"
      ]
     },
     "execution_count": 83,
     "metadata": {},
     "output_type": "execute_result"
    }
   ],
   "source": [
    "# 4. Using NumPy, create an array of integers from 10 to 60 with a step of 5.\n",
    "\n",
    "arr = np.arange(10,61,5)\n",
    "arr"
   ]
  },
  {
   "cell_type": "code",
   "execution_count": 84,
   "id": "17eebdbd-143e-41cf-bc6c-1e46ec16955e",
   "metadata": {},
   "outputs": [],
   "source": [
    "\n",
    "# 5. Create a NumPy array of strings ['python', 'numpy', 'pandas']. Apply different case \n",
    "# transformations (uppercase, lowercase, title case, etc.) to each element.\n"
   ]
  },
  {
   "cell_type": "code",
   "execution_count": 85,
   "id": "ec42babc-ad15-4f5b-8d11-bed2fada44ea",
   "metadata": {},
   "outputs": [
    {
     "data": {
      "text/plain": [
       "array(['python', 'numpy', 'pandas'], dtype='<U6')"
      ]
     },
     "execution_count": 85,
     "metadata": {},
     "output_type": "execute_result"
    }
   ],
   "source": [
    "a = np.array(['python','numpy','pandas'])\n",
    "a"
   ]
  },
  {
   "cell_type": "code",
   "execution_count": 86,
   "id": "92164f15-b33d-4028-b1ed-e87499edae69",
   "metadata": {},
   "outputs": [
    {
     "data": {
      "text/plain": [
       "array(['PYTHON', 'NUMPY', 'PANDAS'], dtype='<U6')"
      ]
     },
     "execution_count": 86,
     "metadata": {},
     "output_type": "execute_result"
    }
   ],
   "source": [
    "np.char.upper(a)"
   ]
  },
  {
   "cell_type": "code",
   "execution_count": 87,
   "id": "b7bc4c14-fabb-4689-86b2-b325b426955f",
   "metadata": {},
   "outputs": [
    {
     "data": {
      "text/plain": [
       "array(['python', 'numpy', 'pandas'], dtype='<U6')"
      ]
     },
     "execution_count": 87,
     "metadata": {},
     "output_type": "execute_result"
    }
   ],
   "source": [
    "np.char.lower(a)"
   ]
  },
  {
   "cell_type": "code",
   "execution_count": 88,
   "id": "fbad85b8-bb1f-4e72-bc9e-d3dacda0ae9f",
   "metadata": {},
   "outputs": [
    {
     "data": {
      "text/plain": [
       "array(['Python', 'Numpy', 'Pandas'], dtype='<U6')"
      ]
     },
     "execution_count": 88,
     "metadata": {},
     "output_type": "execute_result"
    }
   ],
   "source": [
    "np.char.capitalize(a)"
   ]
  },
  {
   "cell_type": "code",
   "execution_count": 89,
   "id": "b785dbc8-2085-45fd-894e-e64597d8c3a1",
   "metadata": {},
   "outputs": [
    {
     "data": {
      "text/plain": [
       "array([ True,  True,  True])"
      ]
     },
     "execution_count": 89,
     "metadata": {},
     "output_type": "execute_result"
    }
   ],
   "source": [
    "np.char.islower(a)"
   ]
  },
  {
   "cell_type": "code",
   "execution_count": 90,
   "id": "d5f190d2-efb5-4d9f-88be-c5dedb86d674",
   "metadata": {},
   "outputs": [
    {
     "data": {
      "text/plain": [
       "array(['PYTHON', 'NUMPY', 'PANDAS'], dtype='<U6')"
      ]
     },
     "execution_count": 90,
     "metadata": {},
     "output_type": "execute_result"
    }
   ],
   "source": [
    "np.char.swapcase(a)"
   ]
  },
  {
   "cell_type": "code",
   "execution_count": 91,
   "id": "970a2166-9a68-41c9-9838-205d6cf07005",
   "metadata": {},
   "outputs": [
    {
     "data": {
      "text/plain": [
       "array(['asd      s', 'd   sd', '     zxc', '   aer    ', 'retew      '],\n",
       "      dtype='<U11')"
      ]
     },
     "execution_count": 91,
     "metadata": {},
     "output_type": "execute_result"
    }
   ],
   "source": [
    "b = np.array(['asd      s','d   sd','     zxc','   aer    ','retew      '])\n",
    "b"
   ]
  },
  {
   "cell_type": "code",
   "execution_count": 92,
   "id": "1c8f5323-bdf8-49a7-b3a4-dd07f51aba80",
   "metadata": {},
   "outputs": [
    {
     "data": {
      "text/plain": [
       "array(['asd      s', 'd   sd', 'zxc', 'aer', 'retew'], dtype='<U11')"
      ]
     },
     "execution_count": 92,
     "metadata": {},
     "output_type": "execute_result"
    }
   ],
   "source": [
    "np.char.strip(b)"
   ]
  },
  {
   "cell_type": "code",
   "execution_count": 93,
   "id": "dc5a8d24-38a1-4b06-a16f-746c20a2b692",
   "metadata": {},
   "outputs": [
    {
     "data": {
      "text/plain": [
       "array([list(['python']), list(['numpy']), list(['pandas'])], dtype=object)"
      ]
     },
     "execution_count": 93,
     "metadata": {},
     "output_type": "execute_result"
    }
   ],
   "source": [
    "np.char.split(a)"
   ]
  },
  {
   "cell_type": "code",
   "execution_count": 94,
   "id": "8f9719b2-c3d9-415a-acd4-0b5a6fdb11ce",
   "metadata": {},
   "outputs": [
    {
     "data": {
      "text/plain": [
       "array(['asd      s', 'd   sd', 'zxc', 'aer', 'retew'], dtype='<U11')"
      ]
     },
     "execution_count": 94,
     "metadata": {},
     "output_type": "execute_result"
    }
   ],
   "source": [
    "np.char.strip(b)"
   ]
  },
  {
   "cell_type": "code",
   "execution_count": 95,
   "id": "8c249ebf-35c4-468e-aa64-663eb7efe0a0",
   "metadata": {},
   "outputs": [
    {
     "data": {
      "text/plain": [
       "array(['Asd      S', 'D   Sd', '     Zxc', '   Aer    ', 'Retew      '],\n",
       "      dtype='<U11')"
      ]
     },
     "execution_count": 95,
     "metadata": {},
     "output_type": "execute_result"
    }
   ],
   "source": [
    "np.char.title(b)"
   ]
  },
  {
   "cell_type": "code",
   "execution_count": 96,
   "id": "1b4ea1a8-e8f8-40d4-b5a0-4076a3ee0f52",
   "metadata": {},
   "outputs": [
    {
     "data": {
      "text/plain": [
       "array(['Py', 'thon', 'Pan', 'Das'], dtype='<U4')"
      ]
     },
     "execution_count": 96,
     "metadata": {},
     "output_type": "execute_result"
    }
   ],
   "source": [
    "# 6. Generate a NumPy array of words. Insert a space between each character of every word in \n",
    "# the array.\n",
    "arr = np.array(['Py','thon','Pan','Das'])\n",
    "arr\n",
    "\n"
   ]
  },
  {
   "cell_type": "code",
   "execution_count": 97,
   "id": "a5f00497-4ade-4da3-b814-f0cd71936e25",
   "metadata": {},
   "outputs": [
    {
     "data": {
      "text/plain": [
       "array(['P y', 't h o n', 'P a n', 'D a s'], dtype='<U7')"
      ]
     },
     "execution_count": 97,
     "metadata": {},
     "output_type": "execute_result"
    }
   ],
   "source": [
    "np.char.join(' ',arr)"
   ]
  },
  {
   "cell_type": "code",
   "execution_count": 98,
   "id": "7aee21c6-e62d-4a1a-b887-9db8af644c5f",
   "metadata": {},
   "outputs": [
    {
     "data": {
      "text/plain": [
       "array([[9, 3, 8, 9],\n",
       "       [8, 2, 6, 9],\n",
       "       [7, 7, 1, 1]])"
      ]
     },
     "execution_count": 98,
     "metadata": {},
     "output_type": "execute_result"
    }
   ],
   "source": [
    "# 7. Create two 2D NumPy arrays and perform element-wise addition, subtraction, \n",
    "    #multiplication, and division.\n",
    "pr = np.random.randint(1,10,(3,4))\n",
    "pr"
   ]
  },
  {
   "cell_type": "code",
   "execution_count": 99,
   "id": "07eb5ab3-293b-42ab-b515-0e10887ee274",
   "metadata": {},
   "outputs": [
    {
     "data": {
      "text/plain": [
       "array([[18, 19, 15, 19],\n",
       "       [11, 19, 12, 11],\n",
       "       [11, 12, 14, 15]])"
      ]
     },
     "execution_count": 99,
     "metadata": {},
     "output_type": "execute_result"
    }
   ],
   "source": [
    "rr = np.random.randint(11,20,(3,4))\n",
    "rr"
   ]
  },
  {
   "cell_type": "code",
   "execution_count": 100,
   "id": "a6c82013-fa97-480e-8fa6-63e8c25d65df",
   "metadata": {},
   "outputs": [
    {
     "data": {
      "text/plain": [
       "array([[27, 22, 23, 28],\n",
       "       [19, 21, 18, 20],\n",
       "       [18, 19, 15, 16]])"
      ]
     },
     "execution_count": 100,
     "metadata": {},
     "output_type": "execute_result"
    }
   ],
   "source": [
    "#addition\n",
    "pr + rr"
   ]
  },
  {
   "cell_type": "code",
   "execution_count": 101,
   "id": "a1d3192f-3d6a-46b0-935f-9d3039bba763",
   "metadata": {},
   "outputs": [
    {
     "data": {
      "text/plain": [
       "array([[ 9, 16,  7, 10],\n",
       "       [ 3, 17,  6,  2],\n",
       "       [ 4,  5, 13, 14]])"
      ]
     },
     "execution_count": 101,
     "metadata": {},
     "output_type": "execute_result"
    }
   ],
   "source": [
    "#subtraction\n",
    "rr - pr"
   ]
  },
  {
   "cell_type": "code",
   "execution_count": 102,
   "id": "7feff9aa-c8f8-4477-a93f-c259117cc2f2",
   "metadata": {},
   "outputs": [
    {
     "data": {
      "text/plain": [
       "array([[162,  57, 120, 171],\n",
       "       [ 88,  38,  72,  99],\n",
       "       [ 77,  84,  14,  15]])"
      ]
     },
     "execution_count": 102,
     "metadata": {},
     "output_type": "execute_result"
    }
   ],
   "source": [
    "#multiply\n",
    "rr * pr"
   ]
  },
  {
   "cell_type": "code",
   "execution_count": 103,
   "id": "c168c18f-d3f1-429a-8e56-d1ad355a0e3c",
   "metadata": {},
   "outputs": [
    {
     "data": {
      "text/plain": [
       "array([[ 2.        ,  6.33333333,  1.875     ,  2.11111111],\n",
       "       [ 1.375     ,  9.5       ,  2.        ,  1.22222222],\n",
       "       [ 1.57142857,  1.71428571, 14.        , 15.        ]])"
      ]
     },
     "execution_count": 103,
     "metadata": {},
     "output_type": "execute_result"
    }
   ],
   "source": [
    "#devide\n",
    "rr/pr"
   ]
  },
  {
   "cell_type": "code",
   "execution_count": 104,
   "id": "4d0cf791-c156-4fcf-a4ed-a77c90665d72",
   "metadata": {},
   "outputs": [
    {
     "data": {
      "text/plain": [
       "array([[1., 0., 0., 0., 0.],\n",
       "       [0., 1., 0., 0., 0.],\n",
       "       [0., 0., 1., 0., 0.],\n",
       "       [0., 0., 0., 1., 0.],\n",
       "       [0., 0., 0., 0., 1.]])"
      ]
     },
     "execution_count": 104,
     "metadata": {},
     "output_type": "execute_result"
    }
   ],
   "source": [
    "# 8. Use NumPy to create a 5x5 identity matrix, then extract its diagonal elements.\n",
    "iden_matrix = np.eye(5)\n",
    "iden_matrix"
   ]
  },
  {
   "cell_type": "code",
   "execution_count": 105,
   "id": "3b1599d0-1113-4f7d-8428-e3b7ca0f6d50",
   "metadata": {},
   "outputs": [],
   "source": [
    "diagonal = np.diagonal(iden_matrix)"
   ]
  },
  {
   "cell_type": "code",
   "execution_count": 106,
   "id": "9bbf9cca-4cbf-4c3d-a3ec-b67f755fecaf",
   "metadata": {},
   "outputs": [
    {
     "data": {
      "text/plain": [
       "array([1., 1., 1., 1., 1.])"
      ]
     },
     "execution_count": 106,
     "metadata": {},
     "output_type": "execute_result"
    }
   ],
   "source": [
    "diagonal"
   ]
  },
  {
   "cell_type": "code",
   "execution_count": 120,
   "id": "e06332cf-5b90-4c46-b555-008b9edc791b",
   "metadata": {},
   "outputs": [
    {
     "data": {
      "text/plain": [
       "array([409, 968, 986, 152, 301, 343, 652, 887, 966, 429, 840, 410, 625,\n",
       "       200, 738, 969, 963, 861,  22, 812, 399, 360, 410, 819,  75, 535,\n",
       "       789, 657, 233,  81, 630, 352, 185,  58, 942, 986, 885, 859, 192,\n",
       "       189, 896, 500, 405, 646,  86, 460, 350, 100, 574, 383, 766, 241,\n",
       "        88, 201, 130, 833, 832, 263, 882, 219, 892, 135, 963, 624, 425,\n",
       "       965, 303, 789, 158, 738, 865, 362, 125, 228, 817,   6, 818, 854,\n",
       "       524, 854, 112, 835, 355,  50, 975, 421, 866, 739, 122, 856,  16,\n",
       "       649, 870, 881, 178, 336, 941,  13, 365, 224])"
      ]
     },
     "execution_count": 120,
     "metadata": {},
     "output_type": "execute_result"
    }
   ],
   "source": [
    "# 9. Generate a NumPy array of 100 random integers between 0 and 1000. \n",
    "# Find and display all prime numbers in this array.\n",
    "arr123 = np.random.randint(0,1001,size = 100)\n",
    "arr123"
   ]
  },
  {
   "cell_type": "code",
   "execution_count": 123,
   "id": "bfbef7ab-c88e-45d6-ae0a-9b29f3639287",
   "metadata": {},
   "outputs": [
    {
     "name": "stdout",
     "output_type": "stream",
     "text": [
      "[]\n"
     ]
    }
   ],
   "source": [
    "def prime(n):\n",
    "    if n <= 1:\n",
    "        return False\n",
    "    for i in range(2,1001):\n",
    "        if n % i == 0:\n",
    "            return False\n",
    "    return True\n",
    "\n",
    "prime_no = [ x for x in arr123 if prime(x)]\n",
    "print(prime_no)"
   ]
  },
  {
   "cell_type": "code",
   "execution_count": 108,
   "id": "d27df2f2-769a-43d9-8c50-8633ff212301",
   "metadata": {},
   "outputs": [],
   "source": [
    "# 10. Create a NumPy array representing daily temperatures for a month.\n",
    "# Calculate and display the weekly averages."
   ]
  },
  {
   "cell_type": "code",
   "execution_count": 124,
   "id": "6f44cea5-0f9c-44ab-b8ca-ce35e35c36f3",
   "metadata": {},
   "outputs": [
    {
     "data": {
      "text/plain": [
       "array([19.34752023,  4.43421232, 34.37198811, 18.02485271, 38.55880793,\n",
       "       15.53962741,  1.58366361, 35.13581956,  9.98244385, 24.09984703,\n",
       "       34.62425995, 10.45389582, 27.47060604, 30.09387347,  1.49744974,\n",
       "       18.90256842, 28.05307216, 38.69276123, 19.85312359,  1.20836519,\n",
       "       11.4124163 ,  7.94349434, 20.24497343,  1.57445396,  6.61618684,\n",
       "        7.80790503,  6.96313575, 27.93299071])"
      ]
     },
     "execution_count": 124,
     "metadata": {},
     "output_type": "execute_result"
    }
   ],
   "source": [
    "daily_temp = np.random.uniform(0,40, size = 28)\n",
    "daily_temp"
   ]
  },
  {
   "cell_type": "code",
   "execution_count": 125,
   "id": "b2c56f7a-b5d5-45e3-be1d-a860fb560171",
   "metadata": {},
   "outputs": [
    {
     "data": {
      "text/plain": [
       "array([[19.34752023,  4.43421232, 34.37198811, 18.02485271, 38.55880793,\n",
       "        15.53962741,  1.58366361],\n",
       "       [35.13581956,  9.98244385, 24.09984703, 34.62425995, 10.45389582,\n",
       "        27.47060604, 30.09387347],\n",
       "       [ 1.49744974, 18.90256842, 28.05307216, 38.69276123, 19.85312359,\n",
       "         1.20836519, 11.4124163 ],\n",
       "       [ 7.94349434, 20.24497343,  1.57445396,  6.61618684,  7.80790503,\n",
       "         6.96313575, 27.93299071]])"
      ]
     },
     "execution_count": 125,
     "metadata": {},
     "output_type": "execute_result"
    }
   ],
   "source": [
    "week= daily_temp.reshape(4,7)\n",
    "week"
   ]
  },
  {
   "cell_type": "code",
   "execution_count": 129,
   "id": "02fcae3e-831e-43bd-bd72-622704f5f01c",
   "metadata": {},
   "outputs": [
    {
     "data": {
      "text/plain": [
       "array([18.8372389 , 24.5515351 , 17.08853666, 11.29759144])"
      ]
     },
     "execution_count": 129,
     "metadata": {},
     "output_type": "execute_result"
    }
   ],
   "source": [
    "weekly_average = np.mean(week,axis = 1)\n",
    "weekly_average"
   ]
  },
  {
   "cell_type": "code",
   "execution_count": null,
   "id": "b104975c-13da-41e2-8658-9da47f07119a",
   "metadata": {},
   "outputs": [],
   "source": []
  },
  {
   "cell_type": "code",
   "execution_count": null,
   "id": "8b56fcca-ad2a-4ad5-bd49-8439e1df0179",
   "metadata": {},
   "outputs": [],
   "source": []
  },
  {
   "cell_type": "code",
   "execution_count": null,
   "id": "1f57c483-1076-4748-a0a2-be176e1ad496",
   "metadata": {},
   "outputs": [],
   "source": []
  },
  {
   "cell_type": "code",
   "execution_count": null,
   "id": "0790e23d-c9ab-45e2-b132-9d8daa9e8a9b",
   "metadata": {},
   "outputs": [],
   "source": []
  },
  {
   "cell_type": "code",
   "execution_count": null,
   "id": "922f22b9-574d-4afd-b1a9-03aed3ed24f2",
   "metadata": {},
   "outputs": [],
   "source": []
  },
  {
   "cell_type": "code",
   "execution_count": null,
   "id": "e1f128c0-9bc3-4db7-b532-c630db8350dd",
   "metadata": {},
   "outputs": [],
   "source": []
  }
 ],
 "metadata": {
  "kernelspec": {
   "display_name": "Python 3 (ipykernel)",
   "language": "python",
   "name": "python3"
  },
  "language_info": {
   "codemirror_mode": {
    "name": "ipython",
    "version": 3
   },
   "file_extension": ".py",
   "mimetype": "text/x-python",
   "name": "python",
   "nbconvert_exporter": "python",
   "pygments_lexer": "ipython3",
   "version": "3.11.7"
  }
 },
 "nbformat": 4,
 "nbformat_minor": 5
}
