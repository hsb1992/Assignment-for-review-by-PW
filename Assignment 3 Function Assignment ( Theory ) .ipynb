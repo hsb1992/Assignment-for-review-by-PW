{
 "cells": [
  {
   "cell_type": "code",
   "execution_count": 2,
   "id": "144098f6-124c-41e2-b07f-3d8823c1b9ab",
   "metadata": {},
   "outputs": [],
   "source": [
    "# Theory Questions:\n",
    "# Note: For each theory Question, give at least one example.\n",
    "\n",
    "\n",
    "\n",
    "\n",
    "\n",
    "\n",
    "# \n",
    "\n",
    "\n",
    "\n",
    "\n",
    "\n",
    "\n",
    "\n",
    "\n",
    "\n",
    "# \n",
    "\n",
    "\n",
    "\n"
   ]
  },
  {
   "cell_type": "code",
   "execution_count": 19,
   "id": "d9f61518-5dd6-4a03-b1fa-6023ad28858f",
   "metadata": {},
   "outputs": [
    {
     "data": {
      "text/plain": [
       "8"
      ]
     },
     "execution_count": 19,
     "metadata": {},
     "output_type": "execute_result"
    }
   ],
   "source": [
    "# Question 1) What is the difference between a function and a method in Python?\n",
    "\n",
    "# Function - its a block of code that is designed by the user to perform a specific task. whereas \n",
    "# Method - is a function that is associated with an object or class.\n",
    "\n",
    "# Function - \n",
    "def name(x,y):\n",
    "    return x + y\n",
    "name(3,5)\n",
    "\n",
    "# Method - \n",
    "class Math :\n",
    "    def add(x,y):\n",
    "        return x + y\n",
    "Math(5,3)\n",
    " \n",
    "# Function - called directly and can be used anywhere in the program\n",
    "# method - called within a class and is limited to the class.\n",
    "\n"
   ]
  },
  {
   "cell_type": "code",
   "execution_count": 25,
   "id": "6a8a8ed4-e1ce-45ef-bdce-62eb573bdb5f",
   "metadata": {},
   "outputs": [
    {
     "data": {
      "text/plain": [
       "15"
      ]
     },
     "execution_count": 25,
     "metadata": {},
     "output_type": "execute_result"
    }
   ],
   "source": [
    "# Question 2) Explain the concept of function arguments and parameters in Python?\n",
    "\n",
    "def multiply(x,y):    # here x,y is the parameter\n",
    "    return x*y\n",
    "multiply(3,5)         # here 3,5 is the argument\n",
    "\n",
    "#Parameter -- These are variable that we pass in function definition. here \" x,y \" are parameter.\n",
    "#Argument -- These are the actual value  we pass in the function when we call it. Here \" 3,5 \" are arguments.\n"
   ]
  },
  {
   "cell_type": "code",
   "execution_count": 26,
   "id": "9cb6a1d9-c743-4883-ad2a-7bbf6a413f7c",
   "metadata": {},
   "outputs": [
    {
     "data": {
      "text/plain": [
       "5"
      ]
     },
     "execution_count": 26,
     "metadata": {},
     "output_type": "execute_result"
    }
   ],
   "source": [
    "# Question 3. What are the different ways to define and call a function in Python?\n",
    "\n",
    "# there are different ways to define a finction in python.\n",
    "\n",
    "#Basic function defining and calling\n",
    "def func(a,b):\n",
    "    return a+b\n",
    "func(2,3) # calling \n",
    "\n"
   ]
  },
  {
   "cell_type": "code",
   "execution_count": 31,
   "id": "8e0fece4-d04d-4a26-9727-c08a6264a20c",
   "metadata": {},
   "outputs": [
    {
     "data": {
      "text/plain": [
       "' my name is Killer, Hi! how are you ?'"
      ]
     },
     "execution_count": 31,
     "metadata": {},
     "output_type": "execute_result"
    }
   ],
   "source": [
    "# Default Argument\n",
    "def name(n = \"Killer\"):   #defining default as Killer\n",
    "    return f\" my name is {n}, Hi! how are you ?\"\n",
    "name() # calling"
   ]
  },
  {
   "cell_type": "code",
   "execution_count": 48,
   "id": "a0df21bb-0ffd-4f72-84f0-aa439d2b90aa",
   "metadata": {},
   "outputs": [
    {
     "name": "stdout",
     "output_type": "stream",
     "text": [
      "5\n",
      "3\n",
      "2\n",
      "2\n"
     ]
    }
   ],
   "source": [
    "# Args/ positional Argument\n",
    "\n",
    "def anything(*args): # defining positional \n",
    "    for i in args:\n",
    "        print(i)\n",
    "       \n",
    "anything(5,3,2,2) # calling"
   ]
  },
  {
   "cell_type": "code",
   "execution_count": 52,
   "id": "97f8882b-1cba-4130-823c-db65dfa9b580",
   "metadata": {},
   "outputs": [
    {
     "name": "stdout",
     "output_type": "stream",
     "text": [
      "name: Alice\n",
      "no: 8888888888\n"
     ]
    }
   ],
   "source": [
    "# Keyword argument\n",
    "\n",
    "def telephone_book(**kwargs):   # defining keyword argument\n",
    "    for name,no in kwargs.items() :\n",
    "        print(f\"{name}: {no}\")\n",
    "\n",
    "telephone_book(name = \"Alice\",no = 8888888888) # calling\n",
    "        "
   ]
  },
  {
   "cell_type": "code",
   "execution_count": 55,
   "id": "49452c32-57c3-49ed-9e04-87688abb6a47",
   "metadata": {},
   "outputs": [
    {
     "name": "stdout",
     "output_type": "stream",
     "text": [
      "20\n"
     ]
    }
   ],
   "source": [
    "# lambda function \n",
    "# anonymous and short function with the lambda keyword.\n",
    "\n",
    "multiply = lambda x,y: x*y  # using lambda function as a argument \n",
    "print(multiply(5,4)) # calling "
   ]
  },
  {
   "cell_type": "code",
   "execution_count": 59,
   "id": "2863e1ee-b02e-4c9d-b586-abd74030d1af",
   "metadata": {},
   "outputs": [
    {
     "data": {
      "text/plain": [
       "10.0"
      ]
     },
     "execution_count": 59,
     "metadata": {},
     "output_type": "execute_result"
    }
   ],
   "source": [
    "# Question 4) What is the purpose of the `return` statement in a Python function?\n",
    "\n",
    "# Lets understand what Return is in python, it is statement that can be an argument, a statement, or a value and it provides an output at the end of the function.\n",
    "\n",
    "def area_of_triangle(h,b):\n",
    "    area = 1/2 * h * b\n",
    "    return area # here you can see we have executed a statement \n",
    "area_of_triangle(4,5)\n",
    "\n",
    "# Purpose of Return in python ---\n",
    "#   1. Its terminates the function immediatly\n",
    "#   2. To create a sort of a loop. It is used to pass the value back to the function."
   ]
  },
  {
   "cell_type": "code",
   "execution_count": 72,
   "id": "2e7e4a6c-e55c-4e8e-a30a-c127a6784b1b",
   "metadata": {},
   "outputs": [
    {
     "data": {
      "text/plain": [
       "1"
      ]
     },
     "execution_count": 72,
     "metadata": {},
     "output_type": "execute_result"
    }
   ],
   "source": [
    "# Question 5) What are iterators in Python and how do they differ from iterables?\n",
    "\n",
    "# Iterators - as object used to iterate over the iterable, keeping track of the current position.\n",
    "# Iterable  - object capable of returning its elements one at a time.\n",
    "\n",
    "\n",
    "# Iterators - iter() is used.\n",
    "# Iterable  - both iter() and Next() is used.\n",
    "\n",
    "\n",
    "# Iterators - used to get the next item feom the iterable until is is totally done.\n",
    "# Iterable - It is used to create an iterator, used in a for loop or with func like list() or tuple() etc \n",
    "\n",
    "\n",
    "# Iterators -\n",
    "\n",
    "list = [1,2,3,4,5]\n",
    "iterator = iter(list)\n",
    "\n",
    "next(iterator)  # getting the next item feom the iterable until is is totally done.\n"
   ]
  },
  {
   "cell_type": "code",
   "execution_count": 73,
   "id": "d7bb179b-1eb8-45db-b2f3-3d0ca909056a",
   "metadata": {},
   "outputs": [
    {
     "data": {
      "text/plain": [
       "2"
      ]
     },
     "execution_count": 73,
     "metadata": {},
     "output_type": "execute_result"
    }
   ],
   "source": [
    "next(iterator)"
   ]
  },
  {
   "cell_type": "code",
   "execution_count": 74,
   "id": "28195560-ebea-428d-bf01-edbe5b769802",
   "metadata": {},
   "outputs": [
    {
     "data": {
      "text/plain": [
       "3"
      ]
     },
     "execution_count": 74,
     "metadata": {},
     "output_type": "execute_result"
    }
   ],
   "source": [
    "next(iterator)"
   ]
  },
  {
   "cell_type": "code",
   "execution_count": 75,
   "id": "4bf2b2fc-c838-44c2-96b1-8ac576a4e64c",
   "metadata": {},
   "outputs": [
    {
     "data": {
      "text/plain": [
       "4"
      ]
     },
     "execution_count": 75,
     "metadata": {},
     "output_type": "execute_result"
    }
   ],
   "source": [
    "next(iterator)"
   ]
  },
  {
   "cell_type": "code",
   "execution_count": 76,
   "id": "c30112d6-d55d-4df2-be49-aa0b6546f765",
   "metadata": {},
   "outputs": [
    {
     "data": {
      "text/plain": [
       "5"
      ]
     },
     "execution_count": 76,
     "metadata": {},
     "output_type": "execute_result"
    }
   ],
   "source": [
    "next(iterator)"
   ]
  },
  {
   "cell_type": "code",
   "execution_count": 77,
   "id": "d11a86f7-c54e-4e66-8450-b4c2628a5fdd",
   "metadata": {},
   "outputs": [
    {
     "name": "stdout",
     "output_type": "stream",
     "text": [
      "1\n",
      "2\n",
      "3\n",
      "4\n",
      "5\n"
     ]
    }
   ],
   "source": [
    "# Iterable\n",
    "list1 = [1,2,3,4,5]\n",
    "for l in list1 :\n",
    "    print(l) #returning its elements one at a time"
   ]
  },
  {
   "cell_type": "code",
   "execution_count": 78,
   "id": "f179878e-56dd-4f51-93c0-50982a982242",
   "metadata": {},
   "outputs": [],
   "source": [
    "# Question 6) Explain the concept of generators in Python and how they are defined.\n",
    "\n",
    "#It is a simple, powerful and useful tool to create iterators which allows you to iterate over a sequence of values only when requested, rather than being cumputed and stored in memory all at once.\n",
    "# We use yield keyword instead of return \n",
    "# we use generators if we are working woth large data sets or streams of data.\n",
    "# to generate next cell we use next() and then it is paused untill it hits another yield statement\n",
    "#it is memory efficient because they yield items one at a time, rather than storing the entire sequence in memory\n",
    "#we can generate infinite sequences and they donot require all values to be stored in memory\n",
    "\n",
    "def fib(n):\n",
    "    a = 0\n",
    "    b = 1\n",
    "    for i in range(n): #if n = 5  >> 0,1,2,3, 4\n",
    "        yield a\n",
    "        a, b = b, a+b #as you can see we used yield"
   ]
  },
  {
   "cell_type": "code",
   "execution_count": 79,
   "id": "7f420bc1-4df5-415a-90fd-4e5f1ddee8e3",
   "metadata": {},
   "outputs": [
    {
     "data": {
      "text/plain": [
       "0"
      ]
     },
     "execution_count": 79,
     "metadata": {},
     "output_type": "execute_result"
    }
   ],
   "source": [
    "f = fib(100)\n",
    "next(f)     # we use next to use yiled again"
   ]
  },
  {
   "cell_type": "code",
   "execution_count": 80,
   "id": "85cf8be1-4be1-4ddc-9ba6-c2023827efda",
   "metadata": {},
   "outputs": [
    {
     "data": {
      "text/plain": [
       "1"
      ]
     },
     "execution_count": 80,
     "metadata": {},
     "output_type": "execute_result"
    }
   ],
   "source": [
    "next(f)"
   ]
  },
  {
   "cell_type": "code",
   "execution_count": 81,
   "id": "2c355c8e-3dfe-442e-8c34-5dedf3885cfa",
   "metadata": {},
   "outputs": [
    {
     "data": {
      "text/plain": [
       "1"
      ]
     },
     "execution_count": 81,
     "metadata": {},
     "output_type": "execute_result"
    }
   ],
   "source": [
    "next(f)"
   ]
  },
  {
   "cell_type": "code",
   "execution_count": 82,
   "id": "2a0d932c-130f-4d39-96ba-bb3610db1e66",
   "metadata": {},
   "outputs": [
    {
     "data": {
      "text/plain": [
       "2"
      ]
     },
     "execution_count": 82,
     "metadata": {},
     "output_type": "execute_result"
    }
   ],
   "source": [
    "next(f)"
   ]
  },
  {
   "cell_type": "code",
   "execution_count": 83,
   "id": "1d2ba195-88c0-4bc3-86fd-476f79266dab",
   "metadata": {},
   "outputs": [
    {
     "data": {
      "text/plain": [
       "3"
      ]
     },
     "execution_count": 83,
     "metadata": {},
     "output_type": "execute_result"
    }
   ],
   "source": [
    "next(f)"
   ]
  },
  {
   "cell_type": "code",
   "execution_count": 84,
   "id": "1ce92d12-b446-4108-b389-8993f58f6e5c",
   "metadata": {},
   "outputs": [
    {
     "data": {
      "text/plain": [
       "5"
      ]
     },
     "execution_count": 84,
     "metadata": {},
     "output_type": "execute_result"
    }
   ],
   "source": [
    "next(f)"
   ]
  },
  {
   "cell_type": "code",
   "execution_count": 85,
   "id": "babd8928-39d3-49d6-967c-54a699aba15a",
   "metadata": {},
   "outputs": [
    {
     "data": {
      "text/plain": [
       "8"
      ]
     },
     "execution_count": 85,
     "metadata": {},
     "output_type": "execute_result"
    }
   ],
   "source": [
    "next(f)"
   ]
  },
  {
   "cell_type": "code",
   "execution_count": 86,
   "id": "5858ac36-3fea-4fd7-8f47-72a2c14b9f07",
   "metadata": {},
   "outputs": [
    {
     "data": {
      "text/plain": [
       "13"
      ]
     },
     "execution_count": 86,
     "metadata": {},
     "output_type": "execute_result"
    }
   ],
   "source": [
    "next(f)"
   ]
  },
  {
   "cell_type": "code",
   "execution_count": 87,
   "id": "3c9ae0fd-40f5-43f3-9411-878191c0c8c0",
   "metadata": {},
   "outputs": [
    {
     "data": {
      "text/plain": [
       "21"
      ]
     },
     "execution_count": 87,
     "metadata": {},
     "output_type": "execute_result"
    }
   ],
   "source": [
    "next(f)"
   ]
  },
  {
   "cell_type": "code",
   "execution_count": 88,
   "id": "4f49486b-96b9-424f-a658-409e041e90b8",
   "metadata": {},
   "outputs": [
    {
     "data": {
      "text/plain": [
       "0"
      ]
     },
     "execution_count": 88,
     "metadata": {},
     "output_type": "execute_result"
    }
   ],
   "source": [
    "# Question 7) What are the advantages of using generators over regular functions?\n",
    "\n",
    "# Using generators over regular functions provides significant benefits in terms of memory efficiency, performance, simplicity, and the ability\n",
    "# to handle infinite sequences and maintain state. These advantages make generators a powerful tool for handling large and complex iteration patterns in a clean and efficient manner.\n",
    "\n",
    "def generator():\n",
    "    for i in range(10000000000):\n",
    "        yield i \n",
    "\n",
    "generate = generator()\n",
    "\n",
    "next(generate)"
   ]
  },
  {
   "cell_type": "code",
   "execution_count": 89,
   "id": "0ea1943b-45cb-412f-8cd8-5b79b3acafa0",
   "metadata": {},
   "outputs": [
    {
     "data": {
      "text/plain": [
       "1"
      ]
     },
     "execution_count": 89,
     "metadata": {},
     "output_type": "execute_result"
    }
   ],
   "source": [
    "next(generate)"
   ]
  },
  {
   "cell_type": "code",
   "execution_count": 90,
   "id": "2b935725-e8f2-4227-b1b7-c95214c75acc",
   "metadata": {},
   "outputs": [
    {
     "data": {
      "text/plain": [
       "2"
      ]
     },
     "execution_count": 90,
     "metadata": {},
     "output_type": "execute_result"
    }
   ],
   "source": [
    "next(generate)"
   ]
  },
  {
   "cell_type": "code",
   "execution_count": 91,
   "id": "c394f010-af32-4256-b8bf-4f0374f2e7ab",
   "metadata": {},
   "outputs": [
    {
     "data": {
      "text/plain": [
       "3"
      ]
     },
     "execution_count": 91,
     "metadata": {},
     "output_type": "execute_result"
    }
   ],
   "source": [
    "next(generate)"
   ]
  },
  {
   "cell_type": "code",
   "execution_count": 92,
   "id": "92ed74c8-b277-4264-ad39-086338cad63a",
   "metadata": {},
   "outputs": [
    {
     "data": {
      "text/plain": [
       "4"
      ]
     },
     "execution_count": 92,
     "metadata": {},
     "output_type": "execute_result"
    }
   ],
   "source": [
    "next(generate)"
   ]
  },
  {
   "cell_type": "code",
   "execution_count": 93,
   "id": "2b7654d9-e48f-4ee1-8f85-8b582ea4e77b",
   "metadata": {},
   "outputs": [
    {
     "data": {
      "text/plain": [
       "5"
      ]
     },
     "execution_count": 93,
     "metadata": {},
     "output_type": "execute_result"
    }
   ],
   "source": [
    "next(generate)"
   ]
  },
  {
   "cell_type": "code",
   "execution_count": 4,
   "id": "ebe0d745-969a-434e-b973-e4ef637ecdb2",
   "metadata": {},
   "outputs": [
    {
     "name": "stdout",
     "output_type": "stream",
     "text": [
      "5\n",
      "[(3, 'Coconut'), (2, 'Banana'), (1, 'Apple')]\n"
     ]
    }
   ],
   "source": [
    "# Question 8) What is a lambda function in Python and when is it typically used?\n",
    "\n",
    "\n",
    "add = lambda x,y : x+y # add is assigned to the lambda with x,y \n",
    "print(add(2,3)) # adding x,y\n",
    "\n",
    "# Lambda function in python is a small, anonymous function defines using  the \"Lambda\" keyword.\n",
    "\n",
    "# lambda are best used for small, simple operations which defines the whole function.\n",
    "\n",
    "# Lambda is used for sorting and filtering : sorted(), filter(), Map().\n",
    "\n",
    "data = [(1, 'Apple'), (2,'Banana'), (3,'Coconut')]\n",
    "sorted_data = sorted(data,key = lambda x : x[1], reverse = True)\n",
    "print(sorted_data)\n",
    "\n"
   ]
  },
  {
   "cell_type": "code",
   "execution_count": 7,
   "id": "b0a362f9-89d6-4d90-b300-91d47262a492",
   "metadata": {},
   "outputs": [
    {
     "name": "stdout",
     "output_type": "stream",
     "text": [
      "[1, 4, 9, 16, 25, 36, 49, 64, 81, 100]\n"
     ]
    }
   ],
   "source": [
    "# Question 9) Explain the purpose and usage of the `map()` function in Python.\n",
    "\n",
    "# map is used to apply a given function to all items in an input list and return a map object of the results as its powerful and convenient way to transform data.\n",
    "\n",
    "#usage of maps finction in python - \n",
    "\n",
    "# it is used to transform data when applied to a function to every element of an iterable( like a list, tuple, etc.) and returns the transformed data.\n",
    "\n",
    "def square(x):\n",
    "    return x ** 2 \n",
    "number = [1,2,3,4,5,6,7,8,9,10]\n",
    "\n",
    "squared_numbers = map(square,number)\n",
    "\n",
    "print(list(squared_numbers))"
   ]
  },
  {
   "cell_type": "code",
   "execution_count": 9,
   "id": "b35bee91-d41a-4f2c-9e31-931badff9e74",
   "metadata": {},
   "outputs": [
    {
     "data": {
      "text/plain": [
       "[1, 4, 9, 16, 25, 36, 49, 64]"
      ]
     },
     "execution_count": 9,
     "metadata": {},
     "output_type": "execute_result"
    }
   ],
   "source": [
    "# Used in lambda \n",
    "\n",
    "num =[1,2,3,4,5,6,7,8]\n",
    "squared_number = list(map(lambda x:x ** 2, num))\n",
    "squared_number"
   ]
  },
  {
   "cell_type": "code",
   "execution_count": 27,
   "id": "25f08ae2-637c-49a7-bf7e-1fc5762995ca",
   "metadata": {},
   "outputs": [
    {
     "data": {
      "text/plain": [
       "[4, 10, 18, 28]"
      ]
     },
     "execution_count": 27,
     "metadata": {},
     "output_type": "execute_result"
    }
   ],
   "source": [
    "# map is used with multiple iterables.\n",
    "def multi(x,y):\n",
    "    return x * y\n",
    "\n",
    "number1 = [1,2,3,4]\n",
    "number2 = [4,5,6,7]\n",
    "\n",
    "loca = list(map(multi, number1 , number2))\n",
    "loca"
   ]
  },
  {
   "cell_type": "code",
   "execution_count": 5,
   "id": "cb7b023e-1f57-4dec-a238-559153f731d0",
   "metadata": {},
   "outputs": [
    {
     "data": {
      "text/plain": [
       "[7, 7, 7, 7, 7, 7]"
      ]
     },
     "execution_count": 5,
     "metadata": {},
     "output_type": "execute_result"
    }
   ],
   "source": [
    "# Question 10) What is the difference between `map()`, `reduce()`, and `filter()` functions in Python?\n",
    "\n",
    "# Lets talk about map() first.\n",
    "\n",
    "# Map() ---\n",
    "\n",
    "# map is a method which applies a specified function to each elements of the iterable and returns a new iterable containing results.\n",
    "\n",
    "#Syntax ---\n",
    "# map(function,iterable)\n",
    "# map can be used on list, sets, string, tuple etc\n",
    "\n",
    "\n",
    "#example\n",
    "\n",
    "def func(x,y):\n",
    "    return x + y \n",
    "\n",
    "x = list(map(func,[1,2,3,4,5,6],[6,5,4,3,2,1])) # list is used to get the value in list form else it will show -- <map at 0x1d6e6c531f0>\n",
    "x\n"
   ]
  },
  {
   "cell_type": "code",
   "execution_count": 12,
   "id": "8faeacef-36c9-417a-8ec0-3b29f55366c4",
   "metadata": {},
   "outputs": [
    {
     "data": {
      "text/plain": [
       "[2, 4, 6, 8, 10, 12, 14, 16, 18, 20]"
      ]
     },
     "execution_count": 12,
     "metadata": {},
     "output_type": "execute_result"
    }
   ],
   "source": [
    "#Filter()\n",
    "\n",
    "#Filter is a method which applies a filters on all the elements present in that iterable based on a given cindition and return a new iterable with the filtered elements.\n",
    "\n",
    "#Syntax ---\n",
    "# filter(function, iterable)\n",
    "#filter can be used on lsit, tuple, set, string, etc.\n",
    "\n",
    "\n",
    "#example\n",
    "num = (1,2,3,4,5,6,7,8,9,10,11,12,13,14,15,16,17,18,19,20)\n",
    "def func1(x):\n",
    "    return x % 2 == 0\n",
    "\n",
    "x = list(filter(func1,num))\n",
    "x"
   ]
  },
  {
   "cell_type": "code",
   "execution_count": 19,
   "id": "1113f36c-2268-44e6-a61d-1b5636a7e86a",
   "metadata": {},
   "outputs": [
    {
     "data": {
      "text/plain": [
       "55"
      ]
     },
     "execution_count": 19,
     "metadata": {},
     "output_type": "execute_result"
    }
   ],
   "source": [
    "# Reduce()\n",
    "\n",
    "\n",
    "# reduce() is a built-in method which applies a given function to the elements of the iterable, reducing them to a single value.\n",
    "\n",
    "#syntax ---\n",
    "# reduce(function, iterable[,initializer])\n",
    "from functools import reduce\n",
    "def add(x,y):\n",
    "    return x + y\n",
    "\n",
    "num1 = [1,2,3,4,5,6,7,8,9,10]\n",
    "\n",
    "sum = reduce(add,num1)\n",
    "sum"
   ]
  },
  {
   "cell_type": "code",
   "execution_count": 21,
   "id": "a91e717c-b56c-48dd-85cd-1184b420b49b",
   "metadata": {},
   "outputs": [
    {
     "data": {
      "text/plain": [
       "113"
      ]
     },
     "execution_count": 21,
     "metadata": {},
     "output_type": "execute_result"
    }
   ],
   "source": [
    "# (Attach paper image for this answer) in doc or colab notebook.\n",
    "# Question 11) Using pen & Paper write the internal mechanism for sum operation using reduce function on this given\n",
    "# list:[47,11,42,13]; \n",
    "\n",
    "\n",
    "\n",
    "numberss = [47,11,42,13]\n",
    "\n",
    "addition = reduce(lambda x,y : x + y, numberss) # using lambda method \n",
    "\n",
    "addition\n",
    "\n",
    "#explanation of mechanism \n",
    "\n",
    "# and pen paper link is in pdf sheet itself please check it out for better understanding\n",
    "\n",
    "#in the given question firstly we will take x, y as the element 47 and 11\n",
    "#x = 47, y = 11 \n",
    "#and as their is a sum function\n",
    "#x + y = 58\n",
    "#now rake the resultant 58 as x and next element  42 as y\n",
    "#and  the sum resultant will be 100\n",
    "#now take 100 as x and 13 as y \n",
    "#and the answer as you can see is \n",
    "#100 #output\n"
   ]
  },
  {
   "cell_type": "code",
   "execution_count": null,
   "id": "5b43ce4d-fd16-4ee6-b8d7-f7cba8e3aca4",
   "metadata": {},
   "outputs": [],
   "source": []
  }
 ],
 "metadata": {
  "kernelspec": {
   "display_name": "Python 3 (ipykernel)",
   "language": "python",
   "name": "python3"
  },
  "language_info": {
   "codemirror_mode": {
    "name": "ipython",
    "version": 3
   },
   "file_extension": ".py",
   "mimetype": "text/x-python",
   "name": "python",
   "nbconvert_exporter": "python",
   "pygments_lexer": "ipython3",
   "version": "3.11.7"
  }
 },
 "nbformat": 4,
 "nbformat_minor": 5
}
